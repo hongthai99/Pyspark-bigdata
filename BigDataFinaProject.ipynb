{
 "cells": [
  {
   "cell_type": "code",
   "execution_count": 1,
   "metadata": {},
   "outputs": [],
   "source": [
    "import pyspark "
   ]
  },
  {
   "cell_type": "code",
   "execution_count": 2,
   "metadata": {},
   "outputs": [],
   "source": [
    "import numpy as np\n",
    "import matplotlib.pyplot as plt\n",
    "import seaborn as sns\n",
    "import pandas as pd"
   ]
  },
  {
   "cell_type": "code",
   "execution_count": 3,
   "metadata": {},
   "outputs": [],
   "source": [
    "import pyspark.sql.functions as F\n",
    "from pyspark.sql import Row"
   ]
  },
  {
   "cell_type": "code",
   "execution_count": 4,
   "metadata": {},
   "outputs": [],
   "source": [
    "from pyspark_dist_explore import Histogram, hist, distplot, pandas_histogram"
   ]
  },
  {
   "cell_type": "code",
   "execution_count": 5,
   "metadata": {},
   "outputs": [],
   "source": [
    "train = '/Users/bachhongthai/Desktop/BigData/train.csv'\n",
    "test = '/Users/bachhongthai/Desktop/BigData/test.csv'"
   ]
  },
  {
   "cell_type": "code",
   "execution_count": 6,
   "metadata": {},
   "outputs": [],
   "source": [
    "from pyspark.sql import SparkSession\n",
    "spark = SparkSession.builder.appName(\"nyc-taxi\").getOrCreate()"
   ]
  },
  {
   "cell_type": "code",
   "execution_count": 7,
   "metadata": {},
   "outputs": [],
   "source": [
    "train_data = spark.read.csv(train, header = True, inferSchema \\\n",
    "                           = True, mode=\"DROPMALFORMED\")\n",
    "test_data = spark.read.csv(test, header = True, inferSchema \\\n",
    "                          = True, mode=\"DROPMALFORMED\")"
   ]
  },
  {
   "cell_type": "code",
   "execution_count": 8,
   "metadata": {},
   "outputs": [],
   "source": [
    "# EDA"
   ]
  },
  {
   "cell_type": "code",
   "execution_count": 9,
   "metadata": {},
   "outputs": [
    {
     "name": "stdout",
     "output_type": "stream",
     "text": [
      "Number of train_data records:  (55423856, 8)\n",
      "Number of test_data records: (9914, 7)\n"
     ]
    }
   ],
   "source": [
    "print('Number of train_data records: ', (train_data.count(), len(train_data.columns)))\n",
    "print('Number of test_data records:', (test_data.count(), len(test_data.columns)))"
   ]
  },
  {
   "cell_type": "code",
   "execution_count": 10,
   "metadata": {},
   "outputs": [
    {
     "name": "stdout",
     "output_type": "stream",
     "text": [
      "+--------------------+-----------+--------------------+----------------+---------------+-----------------+----------------+---------------+\n",
      "|                 key|fare_amount|     pickup_datetime|pickup_longitude|pickup_latitude|dropoff_longitude|dropoff_latitude|passenger_count|\n",
      "+--------------------+-----------+--------------------+----------------+---------------+-----------------+----------------+---------------+\n",
      "|2009-06-15 17:26:...|        4.5|2009-06-15 17:26:...|      -73.844311|      40.721319|        -73.84161|       40.712278|              1|\n",
      "|2010-01-05 16:52:...|       16.9|2010-01-05 16:52:...|      -74.016048|      40.711303|       -73.979268|       40.782004|              1|\n",
      "|2011-08-18 00:35:...|        5.7|2011-08-18 00:35:...|      -73.982738|       40.76127|       -73.991242|       40.750562|              2|\n",
      "|2012-04-21 04:30:...|        7.7|2012-04-21 04:30:...|       -73.98713|      40.733143|       -73.991567|       40.758092|              1|\n",
      "|2010-03-09 07:51:...|        5.3|2010-03-09 07:51:...|      -73.968095|      40.768008|       -73.956655|       40.783762|              1|\n",
      "+--------------------+-----------+--------------------+----------------+---------------+-----------------+----------------+---------------+\n",
      "only showing top 5 rows\n",
      "\n"
     ]
    }
   ],
   "source": [
    "train_data.show(5)"
   ]
  },
  {
   "cell_type": "code",
   "execution_count": 11,
   "metadata": {},
   "outputs": [
    {
     "data": {
      "text/plain": [
       "['key',\n",
       " 'fare_amount',\n",
       " 'pickup_datetime',\n",
       " 'pickup_longitude',\n",
       " 'pickup_latitude',\n",
       " 'dropoff_longitude',\n",
       " 'dropoff_latitude',\n",
       " 'passenger_count']"
      ]
     },
     "execution_count": 11,
     "metadata": {},
     "output_type": "execute_result"
    }
   ],
   "source": [
    "train_data.columns"
   ]
  },
  {
   "cell_type": "code",
   "execution_count": 12,
   "metadata": {},
   "outputs": [
    {
     "name": "stdout",
     "output_type": "stream",
     "text": [
      "root\n",
      " |-- key: string (nullable = true)\n",
      " |-- fare_amount: double (nullable = true)\n",
      " |-- pickup_datetime: string (nullable = true)\n",
      " |-- pickup_longitude: double (nullable = true)\n",
      " |-- pickup_latitude: double (nullable = true)\n",
      " |-- dropoff_longitude: double (nullable = true)\n",
      " |-- dropoff_latitude: double (nullable = true)\n",
      " |-- passenger_count: integer (nullable = true)\n",
      "\n"
     ]
    }
   ],
   "source": [
    "train_data.printSchema()"
   ]
  },
  {
   "cell_type": "code",
   "execution_count": 13,
   "metadata": {},
   "outputs": [],
   "source": [
    "# Change data type from String to Timestamp (pickup_datetime)."
   ]
  },
  {
   "cell_type": "code",
   "execution_count": 13,
   "metadata": {},
   "outputs": [],
   "source": [
    "import pyspark.sql.functions as F"
   ]
  },
  {
   "cell_type": "code",
   "execution_count": 14,
   "metadata": {},
   "outputs": [],
   "source": [
    "train_data = train_data.withColumn(\"pickup_datetime\", F.to_timestamp(F.col(\"pickup_datetime\"), \n",
    "                                                                     \"yyyy-MM-dd HH:mm:ss\"))"
   ]
  },
  {
   "cell_type": "code",
   "execution_count": 15,
   "metadata": {},
   "outputs": [],
   "source": [
    "# Now datatype of pickup_datetime is timestamp"
   ]
  },
  {
   "cell_type": "code",
   "execution_count": 16,
   "metadata": {},
   "outputs": [
    {
     "name": "stdout",
     "output_type": "stream",
     "text": [
      "root\n",
      " |-- key: string (nullable = true)\n",
      " |-- fare_amount: double (nullable = true)\n",
      " |-- pickup_datetime: timestamp (nullable = true)\n",
      " |-- pickup_longitude: double (nullable = true)\n",
      " |-- pickup_latitude: double (nullable = true)\n",
      " |-- dropoff_longitude: double (nullable = true)\n",
      " |-- dropoff_latitude: double (nullable = true)\n",
      " |-- passenger_count: integer (nullable = true)\n",
      "\n"
     ]
    }
   ],
   "source": [
    "train_data.printSchema()"
   ]
  },
  {
   "cell_type": "code",
   "execution_count": 17,
   "metadata": {},
   "outputs": [],
   "source": [
    "def create_date_columns():\n",
    "    # Get datetime.date objects and create a new column pickup_date\n",
    "    new_train_data = train_data.withColumn(\"pickup_date\", F.to_date(F.col(\"pickup_datetime\")))\n",
    "    new_train_data = new_train_data.withColumn(\"pickup_day\", F.dayofmonth(F.col(\"pickup_datetime\")))\n",
    "    new_train_data = new_train_data.withColumn(\"pickup_hour\", F.hour(F.col(\"pickup_datetime\")))\n",
    "    new_train_data = new_train_data.withColumn(\"pickup_day_of_week\", F.dayofweek(F.col(\"pickup_datetime\")))\n",
    "    new_train_data = new_train_data.withColumn(\"pickup_month\", F.month(F.col(\"pickup_datetime\")))\n",
    "    new_train_data = new_train_data.withColumn(\"pickup_year\", F.year(F.col(\"pickup_datetime\")))\n",
    "    \n",
    "    return new_train_data"
   ]
  },
  {
   "cell_type": "code",
   "execution_count": 18,
   "metadata": {},
   "outputs": [],
   "source": [
    "new_train_data = create_date_columns()"
   ]
  },
  {
   "cell_type": "code",
   "execution_count": 19,
   "metadata": {},
   "outputs": [
    {
     "data": {
      "text/plain": [
       "DataFrame[key: string, value: string]"
      ]
     },
     "execution_count": 19,
     "metadata": {},
     "output_type": "execute_result"
    }
   ],
   "source": [
    "spark.sql(\"set spark.sql.legacy.timeParserPolicy=LEGACY\")"
   ]
  },
  {
   "cell_type": "code",
   "execution_count": 20,
   "metadata": {},
   "outputs": [
    {
     "name": "stdout",
     "output_type": "stream",
     "text": [
      "+--------------------+-----------+-------------------+----------------+---------------+-----------------+----------------+---------------+-----------+----------+-----------+------------------+------------+-----------+\n",
      "|                 key|fare_amount|    pickup_datetime|pickup_longitude|pickup_latitude|dropoff_longitude|dropoff_latitude|passenger_count|pickup_date|pickup_day|pickup_hour|pickup_day_of_week|pickup_month|pickup_year|\n",
      "+--------------------+-----------+-------------------+----------------+---------------+-----------------+----------------+---------------+-----------+----------+-----------+------------------+------------+-----------+\n",
      "|2009-06-15 17:26:...|        4.5|2009-06-15 17:26:21|      -73.844311|      40.721319|        -73.84161|       40.712278|              1| 2009-06-15|        15|         17|                 2|           6|       2009|\n",
      "|2010-01-05 16:52:...|       16.9|2010-01-05 16:52:16|      -74.016048|      40.711303|       -73.979268|       40.782004|              1| 2010-01-05|         5|         16|                 3|           1|       2010|\n",
      "|2011-08-18 00:35:...|        5.7|2011-08-18 00:35:00|      -73.982738|       40.76127|       -73.991242|       40.750562|              2| 2011-08-18|        18|          0|                 5|           8|       2011|\n",
      "|2012-04-21 04:30:...|        7.7|2012-04-21 04:30:42|       -73.98713|      40.733143|       -73.991567|       40.758092|              1| 2012-04-21|        21|          4|                 7|           4|       2012|\n",
      "|2010-03-09 07:51:...|        5.3|2010-03-09 07:51:00|      -73.968095|      40.768008|       -73.956655|       40.783762|              1| 2010-03-09|         9|          7|                 3|           3|       2010|\n",
      "+--------------------+-----------+-------------------+----------------+---------------+-----------------+----------------+---------------+-----------+----------+-----------+------------------+------------+-----------+\n",
      "only showing top 5 rows\n",
      "\n"
     ]
    }
   ],
   "source": [
    "new_train_data.show(5)"
   ]
  },
  {
   "cell_type": "code",
   "execution_count": 21,
   "metadata": {},
   "outputs": [
    {
     "name": "stdout",
     "output_type": "stream",
     "text": [
      "root\n",
      " |-- key: string (nullable = true)\n",
      " |-- fare_amount: double (nullable = true)\n",
      " |-- pickup_datetime: timestamp (nullable = true)\n",
      " |-- pickup_longitude: double (nullable = true)\n",
      " |-- pickup_latitude: double (nullable = true)\n",
      " |-- dropoff_longitude: double (nullable = true)\n",
      " |-- dropoff_latitude: double (nullable = true)\n",
      " |-- passenger_count: integer (nullable = true)\n",
      " |-- pickup_date: date (nullable = true)\n",
      " |-- pickup_day: integer (nullable = true)\n",
      " |-- pickup_hour: integer (nullable = true)\n",
      " |-- pickup_day_of_week: integer (nullable = true)\n",
      " |-- pickup_month: integer (nullable = true)\n",
      " |-- pickup_year: integer (nullable = true)\n",
      "\n"
     ]
    }
   ],
   "source": [
    "new_train_data.printSchema()"
   ]
  },
  {
   "cell_type": "code",
   "execution_count": 22,
   "metadata": {},
   "outputs": [],
   "source": [
    "# Now we can see a pickup_date, pickup_day, pickup_hour, pickup_day_of_week, pickup_month, pickup_year \n",
    "# All of them has created from pickup_datetime after convert from string type to datetime type. "
   ]
  },
  {
   "cell_type": "code",
   "execution_count": 23,
   "metadata": {},
   "outputs": [],
   "source": [
    "###"
   ]
  },
  {
   "cell_type": "code",
   "execution_count": 24,
   "metadata": {},
   "outputs": [],
   "source": [
    "# Next, i will checking NULL entries in dataset"
   ]
  },
  {
   "cell_type": "code",
   "execution_count": 25,
   "metadata": {},
   "outputs": [
    {
     "name": "stdout",
     "output_type": "stream",
     "text": [
      "+---+-----------+---------------+----------------+---------------+-----------------+----------------+---------------+-----------+----------+-----------+------------------+------------+-----------+\n",
      "|key|fare_amount|pickup_datetime|pickup_longitude|pickup_latitude|dropoff_longitude|dropoff_latitude|passenger_count|pickup_date|pickup_day|pickup_hour|pickup_day_of_week|pickup_month|pickup_year|\n",
      "+---+-----------+---------------+----------------+---------------+-----------------+----------------+---------------+-----------+----------+-----------+------------------+------------+-----------+\n",
      "|  0|          0|              0|               0|              0|              376|             376|              0|          0|         0|          0|                 0|           0|          0|\n",
      "+---+-----------+---------------+----------------+---------------+-----------------+----------------+---------------+-----------+----------+-----------+------------------+------------+-----------+\n",
      "\n"
     ]
    }
   ],
   "source": [
    "new_train_data.select([F.count(F.when(F.isnull(col), col)).alias(col) for col in new_train_data.columns]).show()"
   ]
  },
  {
   "cell_type": "code",
   "execution_count": 26,
   "metadata": {},
   "outputs": [],
   "source": [
    "# We have 376 NULL entries in two row is dropoff_longitude and dropoff_latitude\n",
    "# Now we will cleaning NULL emtries."
   ]
  },
  {
   "cell_type": "code",
   "execution_count": 27,
   "metadata": {},
   "outputs": [
    {
     "name": "stdout",
     "output_type": "stream",
     "text": [
      "Length before removal 55423856\n",
      "Length after removal 55423480\n"
     ]
    }
   ],
   "source": [
    "print('Length before removal', new_train_data.count())\n",
    "new_train_data = new_train_data.filter(new_train_data.dropoff_longitude.isNotNull())\n",
    "new_train_data = new_train_data.filter(new_train_data.dropoff_latitude.isNotNull())\n",
    "print('Length after removal', new_train_data.count())"
   ]
  },
  {
   "cell_type": "code",
   "execution_count": 28,
   "metadata": {},
   "outputs": [],
   "source": [
    "# Before removal NULL in dataset, we have 55423856 row\n",
    "# After clearning we also have 55423480 in dataset."
   ]
  },
  {
   "cell_type": "code",
   "execution_count": 29,
   "metadata": {},
   "outputs": [],
   "source": [
    "# Next, we will Visualizations data set"
   ]
  },
  {
   "cell_type": "code",
   "execution_count": 31,
   "metadata": {},
   "outputs": [
    {
     "name": "stdout",
     "output_type": "stream",
     "text": [
      "Maximum Fare:Row(max(fare_amount)=93963.36)\n",
      " Minimum Fare: Row(min(fare_amount)=-300.0)\n"
     ]
    }
   ],
   "source": [
    "print(\"Maximum Fare:{}\\n Minimum Fare: {}\".format(new_train_data.agg({\"fare_amount\": \"max\"}).collect()[0],\\\n",
    "      new_train_data.agg({\"fare_amount\": \"min\"}).collect()[0]))\n"
   ]
  },
  {
   "cell_type": "code",
   "execution_count": 30,
   "metadata": {},
   "outputs": [],
   "source": [
    "# As we can see, there are negative fares as well as extremely high fares. \n",
    "# While negative fares don't make any sense, based on data of NY Taxi base fares, \n",
    "# we know that the base fare is 2.5. So, we remove all records \n",
    "# who have fares less than 2.5. Also, we keep the upper limit as 100, based on intuition"
   ]
  },
  {
   "cell_type": "code",
   "execution_count": 32,
   "metadata": {},
   "outputs": [],
   "source": [
    "train_data_fare_filtered = new_train_data.filter(F.col(\"fare_amount\").between(2.5, 100))"
   ]
  },
  {
   "cell_type": "code",
   "execution_count": 33,
   "metadata": {},
   "outputs": [
    {
     "name": "stdout",
     "output_type": "stream",
     "text": [
      "+--------------------+-----------+-------------------+----------------+---------------+-----------------+----------------+---------------+-----------+----------+-----------+------------------+------------+-----------+\n",
      "|                 key|fare_amount|    pickup_datetime|pickup_longitude|pickup_latitude|dropoff_longitude|dropoff_latitude|passenger_count|pickup_date|pickup_day|pickup_hour|pickup_day_of_week|pickup_month|pickup_year|\n",
      "+--------------------+-----------+-------------------+----------------+---------------+-----------------+----------------+---------------+-----------+----------+-----------+------------------+------------+-----------+\n",
      "|2009-06-15 17:26:...|        4.5|2009-06-15 17:26:21|      -73.844311|      40.721319|        -73.84161|       40.712278|              1| 2009-06-15|        15|         17|                 2|           6|       2009|\n",
      "|2010-01-05 16:52:...|       16.9|2010-01-05 16:52:16|      -74.016048|      40.711303|       -73.979268|       40.782004|              1| 2010-01-05|         5|         16|                 3|           1|       2010|\n",
      "|2011-08-18 00:35:...|        5.7|2011-08-18 00:35:00|      -73.982738|       40.76127|       -73.991242|       40.750562|              2| 2011-08-18|        18|          0|                 5|           8|       2011|\n",
      "|2012-04-21 04:30:...|        7.7|2012-04-21 04:30:42|       -73.98713|      40.733143|       -73.991567|       40.758092|              1| 2012-04-21|        21|          4|                 7|           4|       2012|\n",
      "|2010-03-09 07:51:...|        5.3|2010-03-09 07:51:00|      -73.968095|      40.768008|       -73.956655|       40.783762|              1| 2010-03-09|         9|          7|                 3|           3|       2010|\n",
      "+--------------------+-----------+-------------------+----------------+---------------+-----------------+----------------+---------------+-----------+----------+-----------+------------------+------------+-----------+\n",
      "only showing top 5 rows\n",
      "\n"
     ]
    }
   ],
   "source": [
    "train_data_fare_filtered.show(5)"
   ]
  },
  {
   "cell_type": "code",
   "execution_count": 35,
   "metadata": {},
   "outputs": [
    {
     "data": {
      "image/png": "[encoded data removed]",
      "text/plain": [
       "<Figure size 432x288 with 1 Axes>"
      ]
     },
     "metadata": {
      "needs_background": "light"
     },
     "output_type": "display_data"
    }
   ],
   "source": [
    "fig = plt.figure()\n",
    "axes = plt.gca()\n",
    "\n",
    "ranges = [2.5,5,10,15,20,30,40,50,60,70,80,90,100]\n",
    "\n",
    "plt.xticks(ticks = ranges[1:], labels= ['2.5-5', '5-10', '10-15', '15-20', '20-30', '30-40', \\\n",
    "            '40-50', '50-60', '60-70','70-80', '80-90', '90-100'], rotation = 'vertical')\n",
    "plt.title('Binned Fare (less than $100)')\n",
    "plt.xlabel('Fare')\n",
    "plt.ylabel('Number of records')\n",
    "\n",
    "hist(axes, train_data_fare_filtered.select(F.col((\"fare_amount\"))), bins = ranges)\n",
    "plt.show()"
   ]
  },
  {
   "cell_type": "code",
   "execution_count": 36,
   "metadata": {},
   "outputs": [],
   "source": [
    "# We can see from the above plot that trips with fares in the range \n",
    "# 2.5(base rate) to 15 is maximum and then there are some trips at the rate of \n",
    "#40-60 which can be some other kind of fixed rates."
   ]
  },
  {
   "cell_type": "code",
   "execution_count": 37,
   "metadata": {},
   "outputs": [],
   "source": [
    "# Passenger Count Distribution"
   ]
  },
  {
   "cell_type": "code",
   "execution_count": 38,
   "metadata": {},
   "outputs": [
    {
     "name": "stdout",
     "output_type": "stream",
     "text": [
      "Maximum Passengers:Row(max(passenger_count)=208)\n",
      " Minimum Passengers: Row(min(passenger_count)=0)\n"
     ]
    }
   ],
   "source": [
    "print(\"Maximum Passengers:{}\\n Minimum Passengers: {}\".format(train_data_fare_filtered.agg\n",
    "                                                              ({\"passenger_count\": \"max\"}).collect()[0],\\\n",
    "      train_data_fare_filtered.agg({\"passenger_count\": \"min\"}).collect()[0]))"
   ]
  },
  {
   "cell_type": "code",
   "execution_count": 39,
   "metadata": {},
   "outputs": [],
   "source": [
    "# Again, we can see that the passenger count has high numbers as well as zero value which does not make sense. \n",
    "# we filter only those rows where count is [1,6], that is 7 seater cars"
   ]
  },
  {
   "cell_type": "code",
   "execution_count": 34,
   "metadata": {},
   "outputs": [],
   "source": [
    "train_data_passenger_filtered = train_data_fare_filtered.filter(F.col(\"passenger_count\").between(1,6))"
   ]
  },
  {
   "cell_type": "code",
   "execution_count": 35,
   "metadata": {
    "scrolled": true
   },
   "outputs": [
    {
     "data": {
      "image/png": "[encoded data removed]",
      "text/plain": [
       "<Figure size 432x288 with 1 Axes>"
      ]
     },
     "metadata": {
      "needs_background": "light"
     },
     "output_type": "display_data"
    }
   ],
   "source": [
    "fig = plt.figure()\n",
    "axes = plt.gca()\n",
    "\n",
    "ranges = [1,2,3,4,5,6]\n",
    "\n",
    "plt.xticks(rotation = 'vertical')\n",
    "plt.title('Passenger Count')\n",
    "plt.xlabel('Passenger Count')\n",
    "plt.ylabel('Number of records')\n",
    "\n",
    "hist(axes, train_data_passenger_filtered.select(F.col((\"passenger_count\"))), bins = ranges)\n",
    "plt.show()"
   ]
  },
  {
   "cell_type": "code",
   "execution_count": 42,
   "metadata": {},
   "outputs": [
    {
     "data": {
      "text/plain": [
       "55202765"
      ]
     },
     "execution_count": 42,
     "metadata": {},
     "output_type": "execute_result"
    }
   ],
   "source": [
    "train_data_passenger_filtered.count()\n",
    "# We can see in Passenger Count graph, number of 1 passenger in every car is maximun \n",
    "# (Upper 35.0M records in 55202765 records)."
   ]
  },
  {
   "cell_type": "code",
   "execution_count": 36,
   "metadata": {},
   "outputs": [],
   "source": [
    "# Next, I will analyzing Coordinates."
   ]
  },
  {
   "cell_type": "code",
   "execution_count": 37,
   "metadata": {},
   "outputs": [],
   "source": [
    "# In dataset, we have longitude and latitude when taxi driver pickup and dropoff passenger."
   ]
  },
  {
   "cell_type": "code",
   "execution_count": 38,
   "metadata": {},
   "outputs": [],
   "source": [
    "# Below i will show a maximun and minimum value of Longitude and Latitude when pickup"
   ]
  },
  {
   "cell_type": "code",
   "execution_count": 46,
   "metadata": {},
   "outputs": [
    {
     "name": "stdout",
     "output_type": "stream",
     "text": [
      "Range of Pickup Latitude:  Row(max(pickup_latitude)=3408.789565) Row(min(pickup_latitude)=-3492.263768)\n",
      "Range of Pickup Longitude:  Row(max(pickup_longitude)=3457.625683) Row(min(pickup_longitude)=-3442.059565)\n"
     ]
    }
   ],
   "source": [
    "print(\"Range of Pickup Latitude: \", train_data_passenger_filtered.agg({\"pickup_latitude\": \"max\"}).collect()[0],\\\n",
    "      train_data_passenger_filtered.agg({\"pickup_latitude\": \"min\"}).collect()[0])\n",
    "print(\"Range of Pickup Longitude: \", train_data_passenger_filtered.agg({\"pickup_longitude\": \"max\"}).collect()[0],\\\n",
    "      train_data_passenger_filtered.agg({\"pickup_longitude\": \"min\"}).collect()[0])"
   ]
  },
  {
   "cell_type": "code",
   "execution_count": 47,
   "metadata": {},
   "outputs": [],
   "source": [
    "# And, a maximun and minimum value of Longitude and Latitude when drop off"
   ]
  },
  {
   "cell_type": "code",
   "execution_count": 48,
   "metadata": {},
   "outputs": [
    {
     "name": "stdout",
     "output_type": "stream",
     "text": [
      "Range of Dropoff Latitude:  Row(max(dropoff_latitude)=3537.132528) Row(min(dropoff_latitude)=-3547.886698)\n",
      "Range of Dropoff Longitude:  Row(max(dropoff_longitude)=3457.62235) Row(min(dropoff_longitude)=-3442.024565)\n"
     ]
    }
   ],
   "source": [
    "print(\"Range of Dropoff Latitude: \", train_data_passenger_filtered.agg({\"dropoff_latitude\": \"max\"}).collect()[0],\\\n",
    "      train_data_passenger_filtered.agg({\"dropoff_latitude\": \"min\"}).collect()[0])\n",
    "print(\"Range of Dropoff Longitude: \", train_data_passenger_filtered.agg({\"dropoff_longitude\": \"max\"}).collect()[0],\\\n",
    "      train_data_passenger_filtered.agg({\"dropoff_longitude\": \"min\"}).collect()[0])"
   ]
  },
  {
   "cell_type": "code",
   "execution_count": 49,
   "metadata": {},
   "outputs": [],
   "source": [
    "# "
   ]
  },
  {
   "cell_type": "code",
   "execution_count": 50,
   "metadata": {},
   "outputs": [],
   "source": [
    "# Base on Longitude and Latitude in New York is 40.771133, -73.974187.\n",
    "# Using intuition, we keep the records whose co-ordinates are +/- 2 degrees from the centre"
   ]
  },
  {
   "cell_type": "code",
   "execution_count": 51,
   "metadata": {},
   "outputs": [
    {
     "data": {
      "text/plain": [
       "55202765"
      ]
     },
     "execution_count": 51,
     "metadata": {},
     "output_type": "execute_result"
    }
   ],
   "source": [
    "train_data_passenger_filtered.count()"
   ]
  },
  {
   "cell_type": "code",
   "execution_count": 39,
   "metadata": {},
   "outputs": [],
   "source": [
    "train_data_filtered = train_data_passenger_filtered.filter((F.col(\"pickup_latitude\").between(38.5, 42.5)))\n",
    "train_data_filtered = train_data_filtered.filter((F.col(\"dropoff_latitude\").between(38.5, 42.5)))\n",
    "train_data_filtered = train_data_filtered.filter((F.col(\"pickup_longitude\").between(-76, -72)))\n",
    "train_data_filtered = train_data_filtered.filter((F.col(\"dropoff_longitude\").between(-76, -72)))"
   ]
  },
  {
   "cell_type": "code",
   "execution_count": 53,
   "metadata": {},
   "outputs": [
    {
     "data": {
      "text/plain": [
       "54057758"
      ]
     },
     "execution_count": 53,
     "metadata": {},
     "output_type": "execute_result"
    }
   ],
   "source": [
    "train_data_filtered.count()"
   ]
  },
  {
   "cell_type": "code",
   "execution_count": 1,
   "metadata": {},
   "outputs": [],
   "source": [
    "#we see that there are many pickups and drops to and from airports. \n",
    "#So, we try to confirm that using the co-ordinates of the airports and comparing the average fare for all trips \n",
    "#JFK - John F. Kennedy International Airport\n",
    "JFK = {\n",
    "    'min_lng': -73.8352, \n",
    "    'min_lat': 40.6195, \n",
    "    'max_lng': -73.7401,  \n",
    "    'max_lat': 40.6659\n",
    "}\n",
    "\n",
    "JFK_center=[40.6437, -73.7900]\n"
   ]
  },
  {
   "cell_type": "code",
   "execution_count": 41,
   "metadata": {},
   "outputs": [
    {
     "name": "stdout",
     "output_type": "stream",
     "text": [
      "Number of trips with pickups at JFK: 827600\n"
     ]
    }
   ],
   "source": [
    "# Get all pickups from JFK\n",
    "train_data_JFK_pickup = train_data_filtered.filter(F.col(\"pickup_latitude\").between(JFK['min_lat'], JFK['max_lat']))\n",
    "train_data_JFK_pickup = train_data_JFK_pickup.filter(F.col(\"pickup_longitude\").between(JFK['min_lng'], JFK['max_lng']))\n",
    "\n",
    "print('Number of trips with pickups at JFK:', train_data_JFK_pickup.count())"
   ]
  },
  {
   "cell_type": "code",
   "execution_count": 42,
   "metadata": {},
   "outputs": [
    {
     "name": "stdout",
     "output_type": "stream",
     "text": [
      "Number of trips with drops at JFK: 421014\n"
     ]
    }
   ],
   "source": [
    "# Get all dropoffs at JFK\n",
    "train_data_JFK_drops = train_data_filtered.filter(F.col(\"dropoff_latitude\").between(JFK['min_lat'], JFK['max_lat']))\n",
    "train_data_JFK_drops = train_data_JFK_drops.filter(F.col(\"dropoff_longitude\").between(JFK['min_lng'], JFK['max_lng']))\n",
    "\n",
    "print('Number of trips with drops at JFK:', train_data_JFK_drops.count())"
   ]
  },
  {
   "cell_type": "code",
   "execution_count": 57,
   "metadata": {},
   "outputs": [
    {
     "data": {
      "image/png": "[encoded data removed]",
      "text/plain": [
       "<Figure size 432x288 with 1 Axes>"
      ]
     },
     "metadata": {
      "needs_background": "light"
     },
     "output_type": "display_data"
    }
   ],
   "source": [
    "fig = plt.figure()\n",
    "axes = plt.gca()\n",
    "\n",
    "plt.xticks(rotation = 'vertical')\n",
    "plt.title('Pickup Fares')\n",
    "plt.xlabel('Fare')\n",
    "\n",
    "distplot(axes, train_data_JFK_pickup.select(F.col((\"fare_amount\"))), alpha = 0.6)\n",
    "plt.show()"
   ]
  },
  {
   "cell_type": "code",
   "execution_count": 58,
   "metadata": {},
   "outputs": [
    {
     "data": {
      "image/png": "[encoded data removed]",
      "text/plain": [
       "<Figure size 432x288 with 1 Axes>"
      ]
     },
     "metadata": {
      "needs_background": "light"
     },
     "output_type": "display_data"
    }
   ],
   "source": [
    "fig = plt.figure()\n",
    "axes = plt.gca()\n",
    "\n",
    "plt.xticks(rotation = 'vertical')\n",
    "plt.title('Dropoff Fares')\n",
    "plt.xlabel('Fare')\n",
    "\n",
    "distplot(axes, train_data_JFK_drops.select(F.col((\"fare_amount\"))), alpha = 0.6)\n",
    "plt.show()"
   ]
  },
  {
   "cell_type": "code",
   "execution_count": 59,
   "metadata": {},
   "outputs": [
    {
     "data": {
      "image/png": "[encoded data removed]",
      "text/plain": [
       "<Figure size 432x288 with 1 Axes>"
      ]
     },
     "metadata": {
      "needs_background": "light"
     },
     "output_type": "display_data"
    }
   ],
   "source": [
    "fig = plt.figure()\n",
    "axes = plt.gca()\n",
    "\n",
    "plt.xticks(rotation = 'vertical')\n",
    "plt.title('All Fares')\n",
    "plt.xlabel('Fare')\n",
    "\n",
    "distplot(axes, train_data_filtered.select(F.col((\"fare_amount\"))), alpha = 0.6)\n",
    "plt.show()"
   ]
  },
  {
   "cell_type": "code",
   "execution_count": 60,
   "metadata": {},
   "outputs": [],
   "source": [
    "# Feature Engineering"
   ]
  },
  {
   "cell_type": "code",
   "execution_count": 61,
   "metadata": {},
   "outputs": [],
   "source": [
    "#Airport Data"
   ]
  },
  {
   "cell_type": "code",
   "execution_count": 43,
   "metadata": {},
   "outputs": [],
   "source": [
    "nyc_airports = {\n",
    "    'JFK': {\n",
    "        'min_lng': -73.8352, \n",
    "        'min_lat': 40.6195,\n",
    "        'max_lng': -73.7401,  \n",
    "        'max_lat': 40.6659\n",
    "    },     \n",
    "    'EWR': {\n",
    "        'min_lng': -74.1925,\n",
    "        'min_lat': 40.6700, \n",
    "        'max_lng': -74.1531, \n",
    "        'max_lat': 40.7081\n",
    "    },\n",
    "    'LaGuardia': {\n",
    "        'min_lng': -73.8895, \n",
    "        'min_lat': 40.7664, \n",
    "        'max_lng': -73.8550, \n",
    "        'max_lat': 40.7931\n",
    "    }\n",
    "}"
   ]
  },
  {
   "cell_type": "code",
   "execution_count": 44,
   "metadata": {},
   "outputs": [],
   "source": [
    "from pyspark.sql.functions import udf\n",
    "from pyspark.sql.types import BooleanType"
   ]
  },
  {
   "cell_type": "code",
   "execution_count": 45,
   "metadata": {},
   "outputs": [
    {
     "data": {
      "text/plain": [
       "<function __main__.<lambda>(x, y, z)>"
      ]
     },
     "execution_count": 45,
     "metadata": {},
     "output_type": "execute_result"
    }
   ],
   "source": [
    "def isTripRelatedToAirport(latitude,longitude,airport_name='JFK'):   \n",
    "    if ((latitude >= nyc_airports[airport_name]['min_lat']) & \n",
    "        (latitude <= nyc_airports[airport_name]['max_lat']) & \n",
    "        (longitude >= nyc_airports[airport_name]['min_lng']) & \n",
    "       (longitude <= nyc_airports[airport_name]['max_lng'])):\n",
    "        return True\n",
    "    else:\n",
    "        return False\n",
    "\n",
    "featureEngineeringUDF = udf(lambda x, y, z: isTripRelatedToAirport(x,y,z),BooleanType())\n",
    "spark.udf.register(\"featureEngineeringUDF\", featureEngineeringUDF)"
   ]
  },
  {
   "cell_type": "code",
   "execution_count": 46,
   "metadata": {},
   "outputs": [],
   "source": [
    "# Now we create 6 new columns related to trips to the three airports JFK, EWR, and La Guardia respectively: one for pickup and one for dropoff from each airport"
   ]
  },
  {
   "cell_type": "code",
   "execution_count": 47,
   "metadata": {},
   "outputs": [],
   "source": [
    "from pyspark.sql.functions import lit"
   ]
  },
  {
   "cell_type": "code",
   "execution_count": 48,
   "metadata": {},
   "outputs": [],
   "source": [
    "train_data_filtered = train_data_filtered.withColumn(\"is_pickup_JFK\", \n",
    "                                                     featureEngineeringUDF(F.col(\"pickup_latitude\"), \\\n",
    "                                                     F.col(\"pickup_longitude\"), lit(\"JFK\")))\n",
    "train_data_filtered = train_data_filtered.withColumn(\"is_dropoff_JFK\", \n",
    "                                                     featureEngineeringUDF(F.col(\"dropoff_latitude\"), \\\n",
    "                                                     F.col(\"dropoff_longitude\"), lit(\"JFK\")))"
   ]
  },
  {
   "cell_type": "code",
   "execution_count": 68,
   "metadata": {
    "scrolled": false
   },
   "outputs": [
    {
     "name": "stdout",
     "output_type": "stream",
     "text": [
      "+--------------------+-----------+-------------------+----------------+---------------+-----------------+----------------+---------------+-----------+----------+-----------+------------------+------------+-----------+-------------+--------------+\n",
      "|                 key|fare_amount|    pickup_datetime|pickup_longitude|pickup_latitude|dropoff_longitude|dropoff_latitude|passenger_count|pickup_date|pickup_day|pickup_hour|pickup_day_of_week|pickup_month|pickup_year|is_pickup_JFK|is_dropoff_JFK|\n",
      "+--------------------+-----------+-------------------+----------------+---------------+-----------------+----------------+---------------+-----------+----------+-----------+------------------+------------+-----------+-------------+--------------+\n",
      "|2009-06-15 17:26:...|        4.5|2009-06-15 17:26:21|      -73.844311|      40.721319|        -73.84161|       40.712278|              1| 2009-06-15|        15|         17|                 2|           6|       2009|        false|         false|\n",
      "|2010-01-05 16:52:...|       16.9|2010-01-05 16:52:16|      -74.016048|      40.711303|       -73.979268|       40.782004|              1| 2010-01-05|         5|         16|                 3|           1|       2010|        false|         false|\n",
      "|2011-08-18 00:35:...|        5.7|2011-08-18 00:35:00|      -73.982738|       40.76127|       -73.991242|       40.750562|              2| 2011-08-18|        18|          0|                 5|           8|       2011|        false|         false|\n",
      "|2012-04-21 04:30:...|        7.7|2012-04-21 04:30:42|       -73.98713|      40.733143|       -73.991567|       40.758092|              1| 2012-04-21|        21|          4|                 7|           4|       2012|        false|         false|\n",
      "|2010-03-09 07:51:...|        5.3|2010-03-09 07:51:00|      -73.968095|      40.768008|       -73.956655|       40.783762|              1| 2010-03-09|         9|          7|                 3|           3|       2010|        false|         false|\n",
      "+--------------------+-----------+-------------------+----------------+---------------+-----------------+----------------+---------------+-----------+----------+-----------+------------------+------------+-----------+-------------+--------------+\n",
      "only showing top 5 rows\n",
      "\n"
     ]
    }
   ],
   "source": [
    "train_data_filtered.show(5)"
   ]
  },
  {
   "cell_type": "code",
   "execution_count": 49,
   "metadata": {},
   "outputs": [],
   "source": [
    "train_data_filtered = train_data_filtered.withColumn(\"is_pickup_EWR\", \n",
    "                                                     featureEngineeringUDF(F.col(\"pickup_latitude\"), \\\n",
    "                                                     F.col(\"pickup_longitude\"), lit(\"EWR\")))\n",
    "train_data_filtered = train_data_filtered.withColumn(\"is_dropoff_EWR\", \n",
    "                                                     featureEngineeringUDF(F.col(\"dropoff_latitude\"), \\\n",
    "                                                     F.col(\"dropoff_longitude\"), lit(\"EWR\")))"
   ]
  },
  {
   "cell_type": "code",
   "execution_count": 50,
   "metadata": {},
   "outputs": [
    {
     "name": "stdout",
     "output_type": "stream",
     "text": [
      "+--------------------+-----------+-------------------+----------------+---------------+-----------------+----------------+---------------+-----------+----------+-----------+------------------+------------+-----------+-------------+--------------+-------------+--------------+\n",
      "|                 key|fare_amount|    pickup_datetime|pickup_longitude|pickup_latitude|dropoff_longitude|dropoff_latitude|passenger_count|pickup_date|pickup_day|pickup_hour|pickup_day_of_week|pickup_month|pickup_year|is_pickup_JFK|is_dropoff_JFK|is_pickup_EWR|is_dropoff_EWR|\n",
      "+--------------------+-----------+-------------------+----------------+---------------+-----------------+----------------+---------------+-----------+----------+-----------+------------------+------------+-----------+-------------+--------------+-------------+--------------+\n",
      "|2009-06-15 17:26:...|        4.5|2009-06-15 17:26:21|      -73.844311|      40.721319|        -73.84161|       40.712278|              1| 2009-06-15|        15|         17|                 2|           6|       2009|        false|         false|        false|         false|\n",
      "|2010-01-05 16:52:...|       16.9|2010-01-05 16:52:16|      -74.016048|      40.711303|       -73.979268|       40.782004|              1| 2010-01-05|         5|         16|                 3|           1|       2010|        false|         false|        false|         false|\n",
      "|2011-08-18 00:35:...|        5.7|2011-08-18 00:35:00|      -73.982738|       40.76127|       -73.991242|       40.750562|              2| 2011-08-18|        18|          0|                 5|           8|       2011|        false|         false|        false|         false|\n",
      "|2012-04-21 04:30:...|        7.7|2012-04-21 04:30:42|       -73.98713|      40.733143|       -73.991567|       40.758092|              1| 2012-04-21|        21|          4|                 7|           4|       2012|        false|         false|        false|         false|\n",
      "|2010-03-09 07:51:...|        5.3|2010-03-09 07:51:00|      -73.968095|      40.768008|       -73.956655|       40.783762|              1| 2010-03-09|         9|          7|                 3|           3|       2010|        false|         false|        false|         false|\n",
      "+--------------------+-----------+-------------------+----------------+---------------+-----------------+----------------+---------------+-----------+----------+-----------+------------------+------------+-----------+-------------+--------------+-------------+--------------+\n",
      "only showing top 5 rows\n",
      "\n"
     ]
    }
   ],
   "source": [
    "train_data_filtered.show(5)"
   ]
  },
  {
   "cell_type": "code",
   "execution_count": 51,
   "metadata": {},
   "outputs": [],
   "source": [
    "train_data_filtered = train_data_filtered.withColumn(\"is_pickup_LaGuardia\", \n",
    "                                                     featureEngineeringUDF(F.col(\"pickup_latitude\"), \\\n",
    "                                                     F.col(\"pickup_longitude\"), lit(\"LaGuardia\")))\n",
    "train_data_filtered = train_data_filtered.withColumn(\"is_dropoff_LaGuardia\", \n",
    "                                                     featureEngineeringUDF(F.col(\"dropoff_latitude\"), \\\n",
    "                                                     F.col(\"dropoff_longitude\"), lit(\"LaGuardia\")))"
   ]
  },
  {
   "cell_type": "code",
   "execution_count": 52,
   "metadata": {},
   "outputs": [
    {
     "name": "stdout",
     "output_type": "stream",
     "text": [
      "+--------------------+-----------+-------------------+----------------+---------------+-----------------+----------------+---------------+-----------+----------+-----------+------------------+------------+-----------+-------------+--------------+-------------+--------------+-------------------+--------------------+\n",
      "|                 key|fare_amount|    pickup_datetime|pickup_longitude|pickup_latitude|dropoff_longitude|dropoff_latitude|passenger_count|pickup_date|pickup_day|pickup_hour|pickup_day_of_week|pickup_month|pickup_year|is_pickup_JFK|is_dropoff_JFK|is_pickup_EWR|is_dropoff_EWR|is_pickup_LaGuardia|is_dropoff_LaGuardia|\n",
      "+--------------------+-----------+-------------------+----------------+---------------+-----------------+----------------+---------------+-----------+----------+-----------+------------------+------------+-----------+-------------+--------------+-------------+--------------+-------------------+--------------------+\n",
      "|2009-06-15 17:26:...|        4.5|2009-06-15 17:26:21|      -73.844311|      40.721319|        -73.84161|       40.712278|              1| 2009-06-15|        15|         17|                 2|           6|       2009|        false|         false|        false|         false|              false|               false|\n",
      "|2010-01-05 16:52:...|       16.9|2010-01-05 16:52:16|      -74.016048|      40.711303|       -73.979268|       40.782004|              1| 2010-01-05|         5|         16|                 3|           1|       2010|        false|         false|        false|         false|              false|               false|\n",
      "|2011-08-18 00:35:...|        5.7|2011-08-18 00:35:00|      -73.982738|       40.76127|       -73.991242|       40.750562|              2| 2011-08-18|        18|          0|                 5|           8|       2011|        false|         false|        false|         false|              false|               false|\n",
      "|2012-04-21 04:30:...|        7.7|2012-04-21 04:30:42|       -73.98713|      40.733143|       -73.991567|       40.758092|              1| 2012-04-21|        21|          4|                 7|           4|       2012|        false|         false|        false|         false|              false|               false|\n",
      "|2010-03-09 07:51:...|        5.3|2010-03-09 07:51:00|      -73.968095|      40.768008|       -73.956655|       40.783762|              1| 2010-03-09|         9|          7|                 3|           3|       2010|        false|         false|        false|         false|              false|               false|\n",
      "+--------------------+-----------+-------------------+----------------+---------------+-----------------+----------------+---------------+-----------+----------+-----------+------------------+------------+-----------+-------------+--------------+-------------+--------------+-------------------+--------------------+\n",
      "only showing top 5 rows\n",
      "\n"
     ]
    }
   ],
   "source": [
    "train_data_filtered.show(5)"
   ]
  },
  {
   "cell_type": "code",
   "execution_count": 53,
   "metadata": {},
   "outputs": [],
   "source": [
    "from pyspark.sql.types import DoubleType, ArrayType, DecimalType\n",
    "import math"
   ]
  },
  {
   "cell_type": "code",
   "execution_count": 54,
   "metadata": {},
   "outputs": [
    {
     "data": {
      "text/plain": [
       "<function __main__.<lambda>(a, b, c, d)>"
      ]
     },
     "execution_count": 54,
     "metadata": {},
     "output_type": "execute_result"
    }
   ],
   "source": [
    "def trip_distance(lat1, lat2, lon1, lon2):\n",
    "    # pi / 180\n",
    "    p = 0.017453292519943295\n",
    "    a = 0.5 - math.cos((lat2 - lat1) * p)/2 + math.cos(lat1 * p) * math.cos(lat2 * p) * (1 - math.cos((lon2 - lon1) * p)) / 2\n",
    "    return 0.6213712 * 12742 * math.asin(math.sqrt(a))\n",
    "\n",
    "haversineUDF = udf(lambda a, b, c, d: trip_distance(a,b,c,d), DoubleType())\n",
    "spark.udf.register(\"haversineUDF\", haversineUDF)"
   ]
  },
  {
   "cell_type": "code",
   "execution_count": 55,
   "metadata": {},
   "outputs": [
    {
     "name": "stdout",
     "output_type": "stream",
     "text": [
      "+--------------------+-----------+-------------------+----------------+---------------+-----------------+----------------+---------------+-----------+----------+-----------+------------------+------------+-----------+-------------+--------------+-------------+--------------+-------------------+--------------------+------------------+\n",
      "|                 key|fare_amount|    pickup_datetime|pickup_longitude|pickup_latitude|dropoff_longitude|dropoff_latitude|passenger_count|pickup_date|pickup_day|pickup_hour|pickup_day_of_week|pickup_month|pickup_year|is_pickup_JFK|is_dropoff_JFK|is_pickup_EWR|is_dropoff_EWR|is_pickup_LaGuardia|is_dropoff_LaGuardia|     trip_distance|\n",
      "+--------------------+-----------+-------------------+----------------+---------------+-----------------+----------------+---------------+-----------+----------+-----------+------------------+------------+-----------+-------------+--------------+-------------+--------------+-------------------+--------------------+------------------+\n",
      "|2009-06-15 17:26:...|        4.5|2009-06-15 17:26:21|      -73.844311|      40.721319|        -73.84161|       40.712278|              1| 2009-06-15|        15|         17|                 2|           6|       2009|        false|         false|        false|         false|              false|               false|0.6404870231407276|\n",
      "|2010-01-05 16:52:...|       16.9|2010-01-05 16:52:16|      -74.016048|      40.711303|       -73.979268|       40.782004|              1| 2010-01-05|         5|         16|                 3|           1|       2010|        false|         false|        false|         false|              false|               false| 5.250669652366417|\n",
      "|2011-08-18 00:35:...|        5.7|2011-08-18 00:35:00|      -73.982738|       40.76127|       -73.991242|       40.750562|              2| 2011-08-18|        18|          0|                 5|           8|       2011|        false|         false|        false|         false|              false|               false|0.8634109565058572|\n",
      "|2012-04-21 04:30:...|        7.7|2012-04-21 04:30:42|       -73.98713|      40.733143|       -73.991567|       40.758092|              1| 2012-04-21|        21|          4|                 7|           4|       2012|        false|         false|        false|         false|              false|               false|1.7393859082192853|\n",
      "|2010-03-09 07:51:...|        5.3|2010-03-09 07:51:00|      -73.968095|      40.768008|       -73.956655|       40.783762|              1| 2010-03-09|         9|          7|                 3|           3|       2010|        false|         false|        false|         false|              false|               false|1.2422184522938338|\n",
      "|2011-01-06 09:50:...|       12.1|2011-01-06 09:50:45|      -74.000964|       40.73163|       -73.972892|       40.758233|              1| 2011-01-06|         6|          9|                 5|           1|       2011|        false|         false|        false|         false|              false|               false|2.3532812947026924|\n",
      "|2012-11-20 20:35:...|        7.5|2012-11-20 20:35:00|      -73.980002|      40.751662|       -73.973802|       40.764842|              1| 2012-11-20|        20|         20|                 3|          11|       2012|        false|         false|        false|         false|              false|               false|0.9667334508100913|\n",
      "+--------------------+-----------+-------------------+----------------+---------------+-----------------+----------------+---------------+-----------+----------+-----------+------------------+------------+-----------+-------------+--------------+-------------+--------------+-------------------+--------------------+------------------+\n",
      "only showing top 7 rows\n",
      "\n"
     ]
    }
   ],
   "source": [
    "train_data_filtered = train_data_filtered.withColumn(\"trip_distance\", haversineUDF(F.col(\"pickup_latitude\"), \\\n",
    "                                                     F.col(\"dropoff_latitude\"), F.col(\"pickup_longitude\"), \\\n",
    "                                                     F.col(\"dropoff_longitude\")))\n",
    "train_data_filtered.show(7)"
   ]
  },
  {
   "cell_type": "code",
   "execution_count": 76,
   "metadata": {},
   "outputs": [
    {
     "data": {
      "image/png": "[encoded data removed]",
      "text/plain": [
       "<Figure size 432x288 with 1 Axes>"
      ]
     },
     "metadata": {
      "needs_background": "light"
     },
     "output_type": "display_data"
    }
   ],
   "source": [
    "fig = plt.figure()\n",
    "axes = plt.gca()\n",
    "\n",
    "ranges = [0,1,5,10,20,30,40,50,60,70,80,90,100]\n",
    "\n",
    "plt.xticks(ranges, ranges, rotation = 'vertical')\n",
    "plt.title('Distribution of Trip Distance')\n",
    "plt.xlabel('Distance (in miles)')\n",
    "\n",
    "distplot(axes, train_data_filtered.select(F.col((\"trip_distance\"))), alpha = 0.6, bins=ranges)\n",
    "plt.show()"
   ]
  },
  {
   "cell_type": "code",
   "execution_count": 56,
   "metadata": {},
   "outputs": [],
   "source": [
    "nyc_boroughs = {\n",
    "    'manhattan': {\n",
    "        'min_lng': -74.0479,\n",
    "        'min_lat': 40.6829,\n",
    "        'max_lng': -73.9067,\n",
    "        'max_lat': 40.8820\n",
    "    },\n",
    "    'queens': {\n",
    "        'min_lng': -73.9630,\n",
    "        'min_lat': 40.5431,\n",
    "        'max_lng': -73.7004,\n",
    "        'max_lat': 40.8007\n",
    "    },\n",
    "    'brooklyn': {\n",
    "        'min_lng': -74.0421,\n",
    "        'min_lat': 40.5707,\n",
    "        'max_lng': -73.8334,\n",
    "        'max_lat': 40.7395\n",
    "    },\n",
    "    'bronx': {\n",
    "        'min_lng': -73.9339,\n",
    "        'min_lat': 40.7855,\n",
    "        'max_lng': -73.7654,\n",
    "        'max_lat': 40.9176\n",
    "    },\n",
    "    'staten_island': {\n",
    "        'min_lng': -74.2558,\n",
    "        'min_lat': 40.4960,\n",
    "        'max_lng': -74.0522,\n",
    "        'max_lat': 40.6490\n",
    "    }\n",
    "}"
   ]
  },
  {
   "cell_type": "code",
   "execution_count": 57,
   "metadata": {},
   "outputs": [
    {
     "data": {
      "text/plain": [
       "<function __main__.<lambda>(a, b)>"
      ]
     },
     "execution_count": 57,
     "metadata": {},
     "output_type": "execute_result"
    }
   ],
   "source": [
    "def getBorough(lat,lng):\n",
    "    locations = nyc_boroughs.keys()\n",
    "    for location in locations:\n",
    "        if (lat >= nyc_boroughs[location]['min_lat'] and \n",
    "            lat <= nyc_boroughs[location]['max_lat'] and \n",
    "            lng >= nyc_boroughs[location]['min_lng'] and \n",
    "            lng <= nyc_boroughs[location]['max_lng']):\n",
    "            return location\n",
    "    return 'others'\n",
    "\n",
    "boroughUDF = udf(lambda a, b: getBorough(a,b))\n",
    "spark.udf.register(\"boroughUDF\", boroughUDF)"
   ]
  },
  {
   "cell_type": "code",
   "execution_count": 58,
   "metadata": {},
   "outputs": [
    {
     "name": "stdout",
     "output_type": "stream",
     "text": [
      "+--------------------+-----------+-------------------+----------------+---------------+-----------------+----------------+---------------+-----------+----------+-----------+------------------+------------+-----------+-------------+--------------+-------------+--------------+-------------------+--------------------+------------------+--------------+---------------+\n",
      "|                 key|fare_amount|    pickup_datetime|pickup_longitude|pickup_latitude|dropoff_longitude|dropoff_latitude|passenger_count|pickup_date|pickup_day|pickup_hour|pickup_day_of_week|pickup_month|pickup_year|is_pickup_JFK|is_dropoff_JFK|is_pickup_EWR|is_dropoff_EWR|is_pickup_LaGuardia|is_dropoff_LaGuardia|     trip_distance|pickup_borough|dropoff_borough|\n",
      "+--------------------+-----------+-------------------+----------------+---------------+-----------------+----------------+---------------+-----------+----------+-----------+------------------+------------+-----------+-------------+--------------+-------------+--------------+-------------------+--------------------+------------------+--------------+---------------+\n",
      "|2009-06-15 17:26:...|        4.5|2009-06-15 17:26:21|      -73.844311|      40.721319|        -73.84161|       40.712278|              1| 2009-06-15|        15|         17|                 2|           6|       2009|        false|         false|        false|         false|              false|               false|0.6404870231407276|        queens|         queens|\n",
      "|2010-01-05 16:52:...|       16.9|2010-01-05 16:52:16|      -74.016048|      40.711303|       -73.979268|       40.782004|              1| 2010-01-05|         5|         16|                 3|           1|       2010|        false|         false|        false|         false|              false|               false| 5.250669652366417|     manhattan|      manhattan|\n",
      "|2011-08-18 00:35:...|        5.7|2011-08-18 00:35:00|      -73.982738|       40.76127|       -73.991242|       40.750562|              2| 2011-08-18|        18|          0|                 5|           8|       2011|        false|         false|        false|         false|              false|               false|0.8634109565058572|     manhattan|      manhattan|\n",
      "|2012-04-21 04:30:...|        7.7|2012-04-21 04:30:42|       -73.98713|      40.733143|       -73.991567|       40.758092|              1| 2012-04-21|        21|          4|                 7|           4|       2012|        false|         false|        false|         false|              false|               false|1.7393859082192853|     manhattan|      manhattan|\n",
      "|2010-03-09 07:51:...|        5.3|2010-03-09 07:51:00|      -73.968095|      40.768008|       -73.956655|       40.783762|              1| 2010-03-09|         9|          7|                 3|           3|       2010|        false|         false|        false|         false|              false|               false|1.2422184522938338|     manhattan|      manhattan|\n",
      "|2011-01-06 09:50:...|       12.1|2011-01-06 09:50:45|      -74.000964|       40.73163|       -73.972892|       40.758233|              1| 2011-01-06|         6|          9|                 5|           1|       2011|        false|         false|        false|         false|              false|               false|2.3532812947026924|     manhattan|      manhattan|\n",
      "|2012-11-20 20:35:...|        7.5|2012-11-20 20:35:00|      -73.980002|      40.751662|       -73.973802|       40.764842|              1| 2012-11-20|        20|         20|                 3|          11|       2012|        false|         false|        false|         false|              false|               false|0.9667334508100913|     manhattan|      manhattan|\n",
      "+--------------------+-----------+-------------------+----------------+---------------+-----------------+----------------+---------------+-----------+----------+-----------+------------------+------------+-----------+-------------+--------------+-------------+--------------+-------------------+--------------------+------------------+--------------+---------------+\n",
      "only showing top 7 rows\n",
      "\n"
     ]
    }
   ],
   "source": [
    "train_data_filtered = train_data_filtered.withColumn(\"pickup_borough\", \n",
    "                                                     boroughUDF(F.col(\"pickup_latitude\"), \\\n",
    "                                                     F.col(\"pickup_longitude\")))\n",
    "train_data_filtered = train_data_filtered.withColumn(\"dropoff_borough\", \n",
    "                                                     boroughUDF(F.col(\"dropoff_latitude\"), \\\n",
    "                                                     F.col(\"dropoff_longitude\")))\n",
    "\n",
    "train_data_filtered.show(7)"
   ]
  },
  {
   "cell_type": "code",
   "execution_count": 59,
   "metadata": {},
   "outputs": [],
   "source": [
    "from pyspark.sql.types import IntegerType"
   ]
  },
  {
   "cell_type": "code",
   "execution_count": 60,
   "metadata": {},
   "outputs": [
    {
     "data": {
      "text/plain": [
       "<function __main__.<lambda>(s)>"
      ]
     },
     "execution_count": 60,
     "metadata": {},
     "output_type": "execute_result"
    }
   ],
   "source": [
    "def getBoroughMapping(borough):\n",
    "    if borough == \"manhattan\":\n",
    "        return 1\n",
    "    elif borough == \"queens\":\n",
    "        return 2\n",
    "    elif borough == \"brooklyn\":\n",
    "        return 3\n",
    "    elif borough == \"bronx\":\n",
    "        return 4\n",
    "    elif borough == \"staten_island\":\n",
    "        return 5\n",
    "    else:\n",
    "        return 6\n",
    "\n",
    "bmapUDF = udf(lambda s: getBoroughMapping(s), IntegerType())\n",
    "spark.udf.register(\"bmapUDF\", bmapUDF)"
   ]
  },
  {
   "cell_type": "code",
   "execution_count": 83,
   "metadata": {},
   "outputs": [
    {
     "data": {
      "image/png": "[encoded data removed]",
      "text/plain": [
       "<Figure size 432x288 with 1 Axes>"
      ]
     },
     "metadata": {
      "needs_background": "light"
     },
     "output_type": "display_data"
    }
   ],
   "source": [
    "fig = plt.figure()\n",
    "axes = plt.gca()\n",
    "\n",
    "plt.xticks(rotation = 'vertical')\n",
    "plt.title('Distribution of Pickups vs Boroughs')\n",
    "plt.xlabel('Boroughs')\n",
    "\n",
    "pickup_boroughs_numeric = train_data_filtered.withColumn(\"pickup_borough\", \n",
    "                                                         bmapUDF(F.col(\"pickup_borough\")))\n",
    "\n",
    "hist(axes, pickup_boroughs_numeric.select(F.col(\"pickup_borough\")))\n",
    "plt.show()\n"
   ]
  },
  {
   "cell_type": "code",
   "execution_count": 84,
   "metadata": {},
   "outputs": [
    {
     "data": {
      "image/png": "[encoded data removed]",
      "text/plain": [
       "<Figure size 432x288 with 1 Axes>"
      ]
     },
     "metadata": {
      "needs_background": "light"
     },
     "output_type": "display_data"
    }
   ],
   "source": [
    "fig = plt.figure()\n",
    "axes = plt.gca()\n",
    "\n",
    "plt.xticks(rotation = 'vertical')\n",
    "plt.title('Distribution of Drops and Boroughs')\n",
    "plt.xlabel('Boroughs')\n",
    "\n",
    "dropoff_boroughs_numeric = train_data_filtered.withColumn(\"dropoff_borough\", \n",
    "                                                          bmapUDF(F.col(\"dropoff_borough\")))\n",
    "\n",
    "hist(axes, dropoff_boroughs_numeric.select(F.col(\"dropoff_borough\")))\n",
    "plt.show()"
   ]
  },
  {
   "cell_type": "code",
   "execution_count": 85,
   "metadata": {},
   "outputs": [
    {
     "data": {
      "image/png": "[encoded data removed]",
      "text/plain": [
       "<Figure size 432x288 with 1 Axes>"
      ]
     },
     "metadata": {
      "needs_background": "light"
     },
     "output_type": "display_data"
    }
   ],
   "source": [
    "fig = plt.figure()\n",
    "axes = plt.gca()\n",
    "plt.title(\"Distribution of Fare Amount Across Manhattan Borough\")\n",
    "\n",
    "pickup_borough_fares_manhattan = train_data_filtered\n",
    ".filter(F.col(\"pickup_borough\") == \"manhattan\")\n",
    ".select(F.col(\"fare_amount\"))\n",
    ".alias(\"pickup_rates\")\n",
    "dropoff_borough_fares_manhattan = train_data_filtered\n",
    ".filter(F.col(\"dropoff_borough\") == \"manhattan\")\n",
    ".select(F.col(\"fare_amount\"))\n",
    ".alias(\"dropoff_rates\")\n",
    "    \n",
    "distplot(axes, [pickup_borough_fares_manhattan\n",
    "                .select(F.col((\"fare_amount\"))), \n",
    "                dropoff_borough_fares_manhattan\n",
    "                .select(F.col((\"fare_amount\")))],\\\n",
    "        alpha = 0.6, color = ['red', 'tan'])\n",
    "    \n",
    "axes.set_title(\"Fare Amount Distribution for Manhattan\")\n",
    "axes.legend()\n",
    "\n",
    "plt.show()"
   ]
  },
  {
   "cell_type": "code",
   "execution_count": 86,
   "metadata": {},
   "outputs": [
    {
     "data": {
      "image/png": "[encoded data removed]",
      "text/plain": [
       "<Figure size 432x288 with 1 Axes>"
      ]
     },
     "metadata": {
      "needs_background": "light"
     },
     "output_type": "display_data"
    }
   ],
   "source": [
    "fig = plt.figure()\n",
    "axes = plt.gca()\n",
    "plt.title(\"Distribution of Fare Amount Across Bronx Borough\")\n",
    "\n",
    "pickup_borough_fares_bronx = train_data_filtered\n",
    ".filter(F.col(\"pickup_borough\") == \"bronx\")\n",
    ".select(F.col(\"fare_amount\"))\n",
    "dropoff_borough_fares_bronx = train_data_filtered\n",
    ".filter(F.col(\"dropoff_borough\") == \"bronx\")\n",
    ".select(F.col(\"fare_amount\"))\n",
    "    \n",
    "distplot(axes, [pickup_borough_fares_bronx\n",
    "                .select(F.col((\"fare_amount\"))), \n",
    "                dropoff_borough_fares_bronx\n",
    "                .select(F.col((\"fare_amount\")))],\\\n",
    "        alpha = 0.6, color = ['red', 'tan'])\n",
    "    \n",
    "axes.set_title(\"Fare Amount Distribution for Bronx\")\n",
    "axes.legend()\n",
    "\n",
    "plt.show()"
   ]
  },
  {
   "cell_type": "code",
   "execution_count": 87,
   "metadata": {},
   "outputs": [
    {
     "data": {
      "image/png": "[encoded data removed]",
      "text/plain": [
       "<Figure size 432x288 with 1 Axes>"
      ]
     },
     "metadata": {
      "needs_background": "light"
     },
     "output_type": "display_data"
    }
   ],
   "source": [
    "fig = plt.figure()\n",
    "axes = plt.gca()\n",
    "plt.title(\"Distribution of Fare Amount Across Queens\")\n",
    "\n",
    "pickup_borough_fares_queens = train_data_filtered.filter(F.col(\"pickup_borough\") == \"queens\").select(F.col(\"fare_amount\"))\n",
    "dropoff_borough_fares_queens = train_data_filtered.filter(F.col(\"dropoff_borough\") == \"queens\").select(F.col(\"fare_amount\"))\n",
    "    \n",
    "distplot(axes, [pickup_borough_fares_queens.select(F.col((\"fare_amount\"))), dropoff_borough_fares_queens.select(F.col((\"fare_amount\")))],\\\n",
    "        alpha = 0.6, color = ['red', 'tan'])\n",
    "    \n",
    "axes.set_title(\"Fare Amount Distribution for Queens\")\n",
    "axes.legend()\n",
    "\n",
    "plt.show()"
   ]
  },
  {
   "cell_type": "code",
   "execution_count": 88,
   "metadata": {},
   "outputs": [
    {
     "data": {
      "image/png": "[encoded data removed]",
      "text/plain": [
       "<Figure size 432x288 with 1 Axes>"
      ]
     },
     "metadata": {
      "needs_background": "light"
     },
     "output_type": "display_data"
    }
   ],
   "source": [
    "fig = plt.figure()\n",
    "axes = plt.gca()\n",
    "plt.title(\"Distribution of Fare Amount and Brooklyn\")\n",
    "\n",
    "pickup_borough_fares_brooklyn = train_data_filtered.filter(F.col(\"pickup_borough\") == \"brooklyn\").select(F.col(\"fare_amount\"))\n",
    "dropoff_borough_fares_brooklyn = train_data_filtered.filter(F.col(\"dropoff_borough\") == \"brooklyn\").select(F.col(\"fare_amount\"))\n",
    "    \n",
    "distplot(axes, [pickup_borough_fares_brooklyn.select(F.col((\"fare_amount\"))), dropoff_borough_fares_brooklyn.select(F.col((\"fare_amount\")))],\\\n",
    "        alpha = 0.6, color = ['red', 'tan'])\n",
    "    \n",
    "axes.set_title(\"Fare Amount Distribution for Brooklyn\")\n",
    "axes.legend()\n",
    "\n",
    "plt.show()"
   ]
  },
  {
   "cell_type": "code",
   "execution_count": 61,
   "metadata": {},
   "outputs": [],
   "source": [
    "downtown_manhattan_boundary={\n",
    "    'min_lng': -74.0194,\n",
    "    'min_lat': 40.6997,           \n",
    "    'max_lng': -73.9716,        \n",
    "    'max_lat': 40.7427\n",
    "}"
   ]
  },
  {
   "cell_type": "code",
   "execution_count": 62,
   "metadata": {},
   "outputs": [
    {
     "data": {
      "text/plain": [
       "<function __main__.<lambda>(x, y)>"
      ]
     },
     "execution_count": 62,
     "metadata": {},
     "output_type": "execute_result"
    }
   ],
   "source": [
    "def isDownTownManhattan(lat,lng):\n",
    "\n",
    "    if (lat >= downtown_manhattan_boundary['min_lat'] and \n",
    "        lat <= downtown_manhattan_boundary['max_lat'] and \n",
    "        lng >= downtown_manhattan_boundary['min_lng'] and \n",
    "        lng <= downtown_manhattan_boundary['max_lng']):\n",
    "        return True\n",
    "    else:\n",
    "        return False\n",
    "\n",
    "manhattanUDF = udf(lambda x,y : isDownTownManhattan(x, y),BooleanType())\n",
    "spark.udf.register(\"manhattanUDF\", manhattanUDF)"
   ]
  },
  {
   "cell_type": "code",
   "execution_count": 63,
   "metadata": {},
   "outputs": [],
   "source": [
    "####"
   ]
  },
  {
   "cell_type": "code",
   "execution_count": 65,
   "metadata": {},
   "outputs": [
    {
     "name": "stdout",
     "output_type": "stream",
     "text": [
      "+--------------------+-----------+-------------------+----------------+---------------+-----------------+----------------+---------------+-----------+----------+-----------+------------------+------------+-----------+-------------+--------------+-------------+--------------+-------------------+--------------------+------------------+--------------+---------------+-------------------------------+-----------------------------+\n",
      "|                 key|fare_amount|    pickup_datetime|pickup_longitude|pickup_latitude|dropoff_longitude|dropoff_latitude|passenger_count|pickup_date|pickup_day|pickup_hour|pickup_day_of_week|pickup_month|pickup_year|is_pickup_JFK|is_dropoff_JFK|is_pickup_EWR|is_dropoff_EWR|is_pickup_LaGuardia|is_dropoff_LaGuardia|     trip_distance|pickup_borough|dropoff_borough|is_pickup_in_downtown_manhattan|is_drop_in_downtown_manhattan|\n",
      "+--------------------+-----------+-------------------+----------------+---------------+-----------------+----------------+---------------+-----------+----------+-----------+------------------+------------+-----------+-------------+--------------+-------------+--------------+-------------------+--------------------+------------------+--------------+---------------+-------------------------------+-----------------------------+\n",
      "|2009-06-15 17:26:...|        4.5|2009-06-15 17:26:21|      -73.844311|      40.721319|        -73.84161|       40.712278|              1| 2009-06-15|        15|         17|                 2|           6|       2009|        false|         false|        false|         false|              false|               false|0.6404870231407276|        queens|         queens|                          false|                        false|\n",
      "|2010-01-05 16:52:...|       16.9|2010-01-05 16:52:16|      -74.016048|      40.711303|       -73.979268|       40.782004|              1| 2010-01-05|         5|         16|                 3|           1|       2010|        false|         false|        false|         false|              false|               false| 5.250669652366417|     manhattan|      manhattan|                           true|                        false|\n",
      "|2011-08-18 00:35:...|        5.7|2011-08-18 00:35:00|      -73.982738|       40.76127|       -73.991242|       40.750562|              2| 2011-08-18|        18|          0|                 5|           8|       2011|        false|         false|        false|         false|              false|               false|0.8634109565058572|     manhattan|      manhattan|                          false|                        false|\n",
      "|2012-04-21 04:30:...|        7.7|2012-04-21 04:30:42|       -73.98713|      40.733143|       -73.991567|       40.758092|              1| 2012-04-21|        21|          4|                 7|           4|       2012|        false|         false|        false|         false|              false|               false|1.7393859082192853|     manhattan|      manhattan|                           true|                        false|\n",
      "|2010-03-09 07:51:...|        5.3|2010-03-09 07:51:00|      -73.968095|      40.768008|       -73.956655|       40.783762|              1| 2010-03-09|         9|          7|                 3|           3|       2010|        false|         false|        false|         false|              false|               false|1.2422184522938338|     manhattan|      manhattan|                          false|                        false|\n",
      "|2011-01-06 09:50:...|       12.1|2011-01-06 09:50:45|      -74.000964|       40.73163|       -73.972892|       40.758233|              1| 2011-01-06|         6|          9|                 5|           1|       2011|        false|         false|        false|         false|              false|               false|2.3532812947026924|     manhattan|      manhattan|                           true|                        false|\n",
      "|2012-11-20 20:35:...|        7.5|2012-11-20 20:35:00|      -73.980002|      40.751662|       -73.973802|       40.764842|              1| 2012-11-20|        20|         20|                 3|          11|       2012|        false|         false|        false|         false|              false|               false|0.9667334508100913|     manhattan|      manhattan|                          false|                        false|\n",
      "+--------------------+-----------+-------------------+----------------+---------------+-----------------+----------------+---------------+-----------+----------+-----------+------------------+------------+-----------+-------------+--------------+-------------+--------------+-------------------+--------------------+------------------+--------------+---------------+-------------------------------+-----------------------------+\n",
      "only showing top 7 rows\n",
      "\n"
     ]
    }
   ],
   "source": [
    "train_data_filtered = train_data_filtered.withColumn(\"is_pickup_in_downtown_manhattan\", \n",
    "                                                     manhattanUDF(F.col(\"pickup_latitude\"),\\\n",
    "                                                     F.col(\"pickup_longitude\")))\n",
    "train_data_filtered = train_data_filtered.withColumn(\"is_drop_in_downtown_manhattan\", \n",
    "                                                     manhattanUDF(F.col(\"dropoff_latitude\"),\\\n",
    "                                                     F.col(\"dropoff_longitude\")))\n",
    "\n",
    "train_data_filtered.show(7)\n"
   ]
  },
  {
   "cell_type": "code",
   "execution_count": 66,
   "metadata": {},
   "outputs": [
    {
     "data": {
      "image/png": "[encoded data removed]",
      "text/plain": [
       "<Figure size 432x288 with 1 Axes>"
      ]
     },
     "metadata": {
      "needs_background": "light"
     },
     "output_type": "display_data"
    }
   ],
   "source": [
    "fig = plt.figure()\n",
    "axes = plt.gca()\n",
    "plt.title(\"Distribution of Fare Amount - Downtown Manhattan vs Other Regions in Manhattan\")\n",
    "\n",
    "lower_manhattan_pickup = train_data_filtered.filter(F.col(\"is_pickup_in_downtown_manhattan\") == True).select(F.col(\"fare_amount\"))\n",
    "other_manhattan_pickup = train_data_filtered.filter(F.col(\"is_pickup_in_downtown_manhattan\") == False).select(F.col(\"fare_amount\"))\n",
    "    \n",
    "distplot(axes, [lower_manhattan_pickup.select(F.col((\"fare_amount\"))), other_manhattan_pickup.select(F.col((\"fare_amount\")))],\\\n",
    "        alpha = 0.6, color = ['red', 'tan'])\n",
    "    \n",
    "axes.set_title(\"Fare Amount Distribution for Manhattan - Downtown vs Other Regions\")\n",
    "axes.legend()\n",
    "\n",
    "plt.show()"
   ]
  },
  {
   "cell_type": "code",
   "execution_count": 67,
   "metadata": {},
   "outputs": [
    {
     "data": {
      "text/html": [
       "<div>\n",
       "<style scoped>\n",
       "    .dataframe tbody tr th:only-of-type {\n",
       "        vertical-align: middle;\n",
       "    }\n",
       "\n",
       "    .dataframe tbody tr th {\n",
       "        vertical-align: top;\n",
       "    }\n",
       "\n",
       "    .dataframe thead th {\n",
       "        text-align: right;\n",
       "    }\n",
       "</style>\n",
       "<table border=\"1\" class=\"dataframe\">\n",
       "  <thead>\n",
       "    <tr style=\"text-align: right;\">\n",
       "      <th></th>\n",
       "      <th>pickup_year</th>\n",
       "      <th>count</th>\n",
       "    </tr>\n",
       "  </thead>\n",
       "  <tbody>\n",
       "    <tr>\n",
       "      <th>4</th>\n",
       "      <td>2009</td>\n",
       "      <td>8432908</td>\n",
       "    </tr>\n",
       "    <tr>\n",
       "      <th>5</th>\n",
       "      <td>2010</td>\n",
       "      <td>8168683</td>\n",
       "    </tr>\n",
       "    <tr>\n",
       "      <th>6</th>\n",
       "      <td>2011</td>\n",
       "      <td>8504583</td>\n",
       "    </tr>\n",
       "    <tr>\n",
       "      <th>3</th>\n",
       "      <td>2012</td>\n",
       "      <td>8629726</td>\n",
       "    </tr>\n",
       "    <tr>\n",
       "      <th>1</th>\n",
       "      <td>2013</td>\n",
       "      <td>8476306</td>\n",
       "    </tr>\n",
       "    <tr>\n",
       "      <th>2</th>\n",
       "      <td>2014</td>\n",
       "      <td>8068283</td>\n",
       "    </tr>\n",
       "    <tr>\n",
       "      <th>0</th>\n",
       "      <td>2015</td>\n",
       "      <td>3777269</td>\n",
       "    </tr>\n",
       "  </tbody>\n",
       "</table>\n",
       "</div>"
      ],
      "text/plain": [
       "   pickup_year    count\n",
       "4         2009  8432908\n",
       "5         2010  8168683\n",
       "6         2011  8504583\n",
       "3         2012  8629726\n",
       "1         2013  8476306\n",
       "2         2014  8068283\n",
       "0         2015  3777269"
      ]
     },
     "execution_count": 67,
     "metadata": {},
     "output_type": "execute_result"
    }
   ],
   "source": [
    "trips_by_year = train_data_filtered.groupBy(\"pickup_year\").count().toPandas()\n",
    "trips_by_year = trips_by_year.sort_values(by = \"pickup_year\")\n",
    "trips_by_year"
   ]
  },
  {
   "cell_type": "code",
   "execution_count": 68,
   "metadata": {},
   "outputs": [
    {
     "name": "stdout",
     "output_type": "stream",
     "text": [
      "   pickup_year    count\n",
      "4         2009  8432908\n",
      "5         2010  8168683\n",
      "6         2011  8504583\n",
      "3         2012  8629726\n",
      "1         2013  8476306\n",
      "2         2014  8068283\n",
      "0         2015  3777269\n"
     ]
    }
   ],
   "source": [
    "print(trips_by_year)"
   ]
  },
  {
   "cell_type": "code",
   "execution_count": 69,
   "metadata": {},
   "outputs": [
    {
     "data": {
      "text/plain": [
       "Text(0.5, 1.0, 'Trips per year')"
      ]
     },
     "execution_count": 69,
     "metadata": {},
     "output_type": "execute_result"
    },
    {
     "data": {
      "image/png": "[encoded data removed]",
      "text/plain": [
       "<Figure size 432x288 with 1 Axes>"
      ]
     },
     "metadata": {
      "needs_background": "light"
     },
     "output_type": "display_data"
    }
   ],
   "source": [
    "fig = plt.figure()\n",
    "\n",
    "sns.barplot(x = \"pickup_year\",\n",
    "            y = \"count\",\n",
    "            data = trips_by_year).set_title(\"Trips per year\")"
   ]
  },
  {
   "cell_type": "code",
   "execution_count": 70,
   "metadata": {},
   "outputs": [
    {
     "data": {
      "text/html": [
       "<div>\n",
       "<style scoped>\n",
       "    .dataframe tbody tr th:only-of-type {\n",
       "        vertical-align: middle;\n",
       "    }\n",
       "\n",
       "    .dataframe tbody tr th {\n",
       "        vertical-align: top;\n",
       "    }\n",
       "\n",
       "    .dataframe thead th {\n",
       "        text-align: right;\n",
       "    }\n",
       "</style>\n",
       "<table border=\"1\" class=\"dataframe\">\n",
       "  <thead>\n",
       "    <tr style=\"text-align: right;\">\n",
       "      <th></th>\n",
       "      <th>pickup_month</th>\n",
       "      <th>count</th>\n",
       "    </tr>\n",
       "  </thead>\n",
       "  <tbody>\n",
       "    <tr>\n",
       "      <th>1</th>\n",
       "      <td>1</td>\n",
       "      <td>4817304</td>\n",
       "    </tr>\n",
       "    <tr>\n",
       "      <th>11</th>\n",
       "      <td>2</td>\n",
       "      <td>4545047</td>\n",
       "    </tr>\n",
       "    <tr>\n",
       "      <th>3</th>\n",
       "      <td>3</td>\n",
       "      <td>5069527</td>\n",
       "    </tr>\n",
       "    <tr>\n",
       "      <th>6</th>\n",
       "      <td>4</td>\n",
       "      <td>4984445</td>\n",
       "    </tr>\n",
       "    <tr>\n",
       "      <th>4</th>\n",
       "      <td>5</td>\n",
       "      <td>5082105</td>\n",
       "    </tr>\n",
       "    <tr>\n",
       "      <th>2</th>\n",
       "      <td>6</td>\n",
       "      <td>4862991</td>\n",
       "    </tr>\n",
       "    <tr>\n",
       "      <th>8</th>\n",
       "      <td>7</td>\n",
       "      <td>4098227</td>\n",
       "    </tr>\n",
       "    <tr>\n",
       "      <th>7</th>\n",
       "      <td>8</td>\n",
       "      <td>3856419</td>\n",
       "    </tr>\n",
       "    <tr>\n",
       "      <th>5</th>\n",
       "      <td>9</td>\n",
       "      <td>4118322</td>\n",
       "    </tr>\n",
       "    <tr>\n",
       "      <th>9</th>\n",
       "      <td>10</td>\n",
       "      <td>4368670</td>\n",
       "    </tr>\n",
       "    <tr>\n",
       "      <th>10</th>\n",
       "      <td>11</td>\n",
       "      <td>4107319</td>\n",
       "    </tr>\n",
       "    <tr>\n",
       "      <th>0</th>\n",
       "      <td>12</td>\n",
       "      <td>4147382</td>\n",
       "    </tr>\n",
       "  </tbody>\n",
       "</table>\n",
       "</div>"
      ],
      "text/plain": [
       "    pickup_month    count\n",
       "1              1  4817304\n",
       "11             2  4545047\n",
       "3              3  5069527\n",
       "6              4  4984445\n",
       "4              5  5082105\n",
       "2              6  4862991\n",
       "8              7  4098227\n",
       "7              8  3856419\n",
       "5              9  4118322\n",
       "9             10  4368670\n",
       "10            11  4107319\n",
       "0             12  4147382"
      ]
     },
     "execution_count": 70,
     "metadata": {},
     "output_type": "execute_result"
    }
   ],
   "source": [
    "by_month = train_data_filtered.groupBy(\"pickup_month\").count().toPandas()\n",
    "by_month = by_month.sort_values(by = \"pickup_month\")\n",
    "by_month"
   ]
  },
  {
   "cell_type": "code",
   "execution_count": 72,
   "metadata": {},
   "outputs": [
    {
     "data": {
      "text/plain": [
       "Text(0.5, 1.0, 'Total trips per month')"
      ]
     },
     "execution_count": 72,
     "metadata": {},
     "output_type": "execute_result"
    },
    {
     "data": {
      "image/png": "[encoded data removed]",
      "text/plain": [
       "<Figure size 432x288 with 1 Axes>"
      ]
     },
     "metadata": {
      "needs_background": "light"
     },
     "output_type": "display_data"
    }
   ],
   "source": [
    "fig = plt.figure()\n",
    "\n",
    "sns.barplot(x = \"pickup_month\",\n",
    "            y = \"count\",\n",
    "            data = by_month).set_title(\"Total trips per month\")"
   ]
  },
  {
   "cell_type": "code",
   "execution_count": 73,
   "metadata": {},
   "outputs": [
    {
     "data": {
      "text/html": [
       "<div>\n",
       "<style scoped>\n",
       "    .dataframe tbody tr th:only-of-type {\n",
       "        vertical-align: middle;\n",
       "    }\n",
       "\n",
       "    .dataframe tbody tr th {\n",
       "        vertical-align: top;\n",
       "    }\n",
       "\n",
       "    .dataframe thead th {\n",
       "        text-align: right;\n",
       "    }\n",
       "</style>\n",
       "<table border=\"1\" class=\"dataframe\">\n",
       "  <thead>\n",
       "    <tr style=\"text-align: right;\">\n",
       "      <th></th>\n",
       "      <th>pickup_day_of_week</th>\n",
       "      <th>count</th>\n",
       "    </tr>\n",
       "  </thead>\n",
       "  <tbody>\n",
       "    <tr>\n",
       "      <th>0</th>\n",
       "      <td>1</td>\n",
       "      <td>7090814</td>\n",
       "    </tr>\n",
       "    <tr>\n",
       "      <th>6</th>\n",
       "      <td>2</td>\n",
       "      <td>6929640</td>\n",
       "    </tr>\n",
       "    <tr>\n",
       "      <th>2</th>\n",
       "      <td>3</td>\n",
       "      <td>7573406</td>\n",
       "    </tr>\n",
       "    <tr>\n",
       "      <th>4</th>\n",
       "      <td>4</td>\n",
       "      <td>7842666</td>\n",
       "    </tr>\n",
       "    <tr>\n",
       "      <th>3</th>\n",
       "      <td>5</td>\n",
       "      <td>8099058</td>\n",
       "    </tr>\n",
       "    <tr>\n",
       "      <th>1</th>\n",
       "      <td>6</td>\n",
       "      <td>8317144</td>\n",
       "    </tr>\n",
       "    <tr>\n",
       "      <th>5</th>\n",
       "      <td>7</td>\n",
       "      <td>8205030</td>\n",
       "    </tr>\n",
       "  </tbody>\n",
       "</table>\n",
       "</div>"
      ],
      "text/plain": [
       "   pickup_day_of_week    count\n",
       "0                   1  7090814\n",
       "6                   2  6929640\n",
       "2                   3  7573406\n",
       "4                   4  7842666\n",
       "3                   5  8099058\n",
       "1                   6  8317144\n",
       "5                   7  8205030"
      ]
     },
     "execution_count": 73,
     "metadata": {},
     "output_type": "execute_result"
    }
   ],
   "source": [
    "by_day = train_data_filtered.groupBy(\"pickup_day_of_week\").count().toPandas()\n",
    "by_day = by_day.sort_values(by = \"pickup_day_of_week\")\n",
    "by_day"
   ]
  },
  {
   "cell_type": "code",
   "execution_count": 74,
   "metadata": {},
   "outputs": [
    {
     "data": {
      "text/plain": [
       "Text(0.5, 1.0, 'Trips per day of week (1 is Sunday and starting Sunday.)')"
      ]
     },
     "execution_count": 74,
     "metadata": {},
     "output_type": "execute_result"
    },
    {
     "data": {
      "image/png": "[encoded data removed]",
      "text/plain": [
       "<Figure size 432x288 with 1 Axes>"
      ]
     },
     "metadata": {
      "needs_background": "light"
     },
     "output_type": "display_data"
    }
   ],
   "source": [
    "fig = plt.figure()\n",
    "\n",
    "sns.barplot(x = \"pickup_day_of_week\",\n",
    "            y = \"count\",\n",
    "            data = by_day).set_title(\"Trips per day of week (1 is Sunday and starting Sunday.)\")"
   ]
  },
  {
   "cell_type": "code",
   "execution_count": 75,
   "metadata": {},
   "outputs": [
    {
     "data": {
      "text/html": [
       "<div>\n",
       "<style scoped>\n",
       "    .dataframe tbody tr th:only-of-type {\n",
       "        vertical-align: middle;\n",
       "    }\n",
       "\n",
       "    .dataframe tbody tr th {\n",
       "        vertical-align: top;\n",
       "    }\n",
       "\n",
       "    .dataframe thead th {\n",
       "        text-align: right;\n",
       "    }\n",
       "</style>\n",
       "<table border=\"1\" class=\"dataframe\">\n",
       "  <thead>\n",
       "    <tr style=\"text-align: right;\">\n",
       "      <th></th>\n",
       "      <th>pickup_hour</th>\n",
       "      <th>count</th>\n",
       "    </tr>\n",
       "  </thead>\n",
       "  <tbody>\n",
       "    <tr>\n",
       "      <th>22</th>\n",
       "      <td>0</td>\n",
       "      <td>2139866</td>\n",
       "    </tr>\n",
       "    <tr>\n",
       "      <th>2</th>\n",
       "      <td>1</td>\n",
       "      <td>1584703</td>\n",
       "    </tr>\n",
       "    <tr>\n",
       "      <th>21</th>\n",
       "      <td>2</td>\n",
       "      <td>1181754</td>\n",
       "    </tr>\n",
       "    <tr>\n",
       "      <th>6</th>\n",
       "      <td>3</td>\n",
       "      <td>865742</td>\n",
       "    </tr>\n",
       "    <tr>\n",
       "      <th>13</th>\n",
       "      <td>4</td>\n",
       "      <td>627217</td>\n",
       "    </tr>\n",
       "    <tr>\n",
       "      <th>8</th>\n",
       "      <td>5</td>\n",
       "      <td>528350</td>\n",
       "    </tr>\n",
       "    <tr>\n",
       "      <th>5</th>\n",
       "      <td>6</td>\n",
       "      <td>1108962</td>\n",
       "    </tr>\n",
       "    <tr>\n",
       "      <th>16</th>\n",
       "      <td>7</td>\n",
       "      <td>1946680</td>\n",
       "    </tr>\n",
       "    <tr>\n",
       "      <th>14</th>\n",
       "      <td>8</td>\n",
       "      <td>2455370</td>\n",
       "    </tr>\n",
       "    <tr>\n",
       "      <th>12</th>\n",
       "      <td>9</td>\n",
       "      <td>2526974</td>\n",
       "    </tr>\n",
       "    <tr>\n",
       "      <th>17</th>\n",
       "      <td>10</td>\n",
       "      <td>2439216</td>\n",
       "    </tr>\n",
       "    <tr>\n",
       "      <th>19</th>\n",
       "      <td>11</td>\n",
       "      <td>2516889</td>\n",
       "    </tr>\n",
       "    <tr>\n",
       "      <th>0</th>\n",
       "      <td>12</td>\n",
       "      <td>2658788</td>\n",
       "    </tr>\n",
       "    <tr>\n",
       "      <th>3</th>\n",
       "      <td>13</td>\n",
       "      <td>2642588</td>\n",
       "    </tr>\n",
       "    <tr>\n",
       "      <th>20</th>\n",
       "      <td>14</td>\n",
       "      <td>2722529</td>\n",
       "    </tr>\n",
       "    <tr>\n",
       "      <th>10</th>\n",
       "      <td>15</td>\n",
       "      <td>2599788</td>\n",
       "    </tr>\n",
       "    <tr>\n",
       "      <th>4</th>\n",
       "      <td>16</td>\n",
       "      <td>2231623</td>\n",
       "    </tr>\n",
       "    <tr>\n",
       "      <th>11</th>\n",
       "      <td>17</td>\n",
       "      <td>2679117</td>\n",
       "    </tr>\n",
       "    <tr>\n",
       "      <th>23</th>\n",
       "      <td>18</td>\n",
       "      <td>3255772</td>\n",
       "    </tr>\n",
       "    <tr>\n",
       "      <th>9</th>\n",
       "      <td>19</td>\n",
       "      <td>3380180</td>\n",
       "    </tr>\n",
       "    <tr>\n",
       "      <th>7</th>\n",
       "      <td>20</td>\n",
       "      <td>3184018</td>\n",
       "    </tr>\n",
       "    <tr>\n",
       "      <th>18</th>\n",
       "      <td>21</td>\n",
       "      <td>3095506</td>\n",
       "    </tr>\n",
       "    <tr>\n",
       "      <th>1</th>\n",
       "      <td>22</td>\n",
       "      <td>3010717</td>\n",
       "    </tr>\n",
       "    <tr>\n",
       "      <th>15</th>\n",
       "      <td>23</td>\n",
       "      <td>2675409</td>\n",
       "    </tr>\n",
       "  </tbody>\n",
       "</table>\n",
       "</div>"
      ],
      "text/plain": [
       "    pickup_hour    count\n",
       "22            0  2139866\n",
       "2             1  1584703\n",
       "21            2  1181754\n",
       "6             3   865742\n",
       "13            4   627217\n",
       "8             5   528350\n",
       "5             6  1108962\n",
       "16            7  1946680\n",
       "14            8  2455370\n",
       "12            9  2526974\n",
       "17           10  2439216\n",
       "19           11  2516889\n",
       "0            12  2658788\n",
       "3            13  2642588\n",
       "20           14  2722529\n",
       "10           15  2599788\n",
       "4            16  2231623\n",
       "11           17  2679117\n",
       "23           18  3255772\n",
       "9            19  3380180\n",
       "7            20  3184018\n",
       "18           21  3095506\n",
       "1            22  3010717\n",
       "15           23  2675409"
      ]
     },
     "execution_count": 75,
     "metadata": {},
     "output_type": "execute_result"
    }
   ],
   "source": [
    "by_hour = train_data_filtered.groupBy(\"pickup_hour\").count().toPandas()\n",
    "by_hour = by_hour.sort_values(by = \"pickup_hour\")\n",
    "by_hour"
   ]
  },
  {
   "cell_type": "code",
   "execution_count": 76,
   "metadata": {},
   "outputs": [
    {
     "data": {
      "text/plain": [
       "Text(0.5, 1.0, 'Trips per hour')"
      ]
     },
     "execution_count": 76,
     "metadata": {},
     "output_type": "execute_result"
    },
    {
     "data": {
      "image/png": "[encoded data removed]",
      "text/plain": [
       "<Figure size 432x288 with 1 Axes>"
      ]
     },
     "metadata": {
      "needs_background": "light"
     },
     "output_type": "display_data"
    }
   ],
   "source": [
    "fig = plt.figure()\n",
    "\n",
    "sns.barplot(x = \"pickup_hour\",\n",
    "            y = \"count\",\n",
    "            data = by_hour).set_title(\"Trips per hour\")"
   ]
  },
  {
   "cell_type": "code",
   "execution_count": 77,
   "metadata": {},
   "outputs": [
    {
     "name": "stdout",
     "output_type": "stream",
     "text": [
      "   pickup_year  avg(pickup_year)  avg(fare_amount)\n",
      "4         2009            2009.0         10.036191\n",
      "5         2010            2010.0         10.137589\n",
      "6         2011            2011.0         10.425817\n",
      "3         2012            2012.0         11.124391\n",
      "1         2013            2013.0         12.506418\n",
      "2         2014            2014.0         12.824710\n",
      "0         2015            2015.0         12.887004\n"
     ]
    }
   ],
   "source": [
    "avg_fares_year = train_data_filtered.select(\"pickup_year\", \"fare_amount\").groupBy(\"pickup_year\").mean().toPandas()\n",
    "avg_fares_year.sort_values(by = \"pickup_year\", inplace = True)\n",
    "print (avg_fares_year)"
   ]
  },
  {
   "cell_type": "code",
   "execution_count": 78,
   "metadata": {},
   "outputs": [
    {
     "data": {
      "text/plain": [
       "Text(0.5, 1.0, 'Average Fares Each Year')"
      ]
     },
     "execution_count": 78,
     "metadata": {},
     "output_type": "execute_result"
    },
    {
     "data": {
      "image/png": "[encoded data removed]",
      "text/plain": [
       "<Figure size 432x288 with 1 Axes>"
      ]
     },
     "metadata": {
      "needs_background": "light"
     },
     "output_type": "display_data"
    }
   ],
   "source": [
    "fig = plt.figure()\n",
    "\n",
    "sns.barplot(x = \"pickup_year\",\n",
    "            y = \"avg(fare_amount)\",\n",
    "            data = avg_fares_year).set_title(\"Average Fares Each Year\")"
   ]
  },
  {
   "cell_type": "code",
   "execution_count": 79,
   "metadata": {},
   "outputs": [
    {
     "data": {
      "text/html": [
       "<div>\n",
       "<style scoped>\n",
       "    .dataframe tbody tr th:only-of-type {\n",
       "        vertical-align: middle;\n",
       "    }\n",
       "\n",
       "    .dataframe tbody tr th {\n",
       "        vertical-align: top;\n",
       "    }\n",
       "\n",
       "    .dataframe thead th {\n",
       "        text-align: right;\n",
       "    }\n",
       "</style>\n",
       "<table border=\"1\" class=\"dataframe\">\n",
       "  <thead>\n",
       "    <tr style=\"text-align: right;\">\n",
       "      <th></th>\n",
       "      <th>pickup_month</th>\n",
       "      <th>avg(pickup_month)</th>\n",
       "      <th>avg(fare_amount)</th>\n",
       "    </tr>\n",
       "  </thead>\n",
       "  <tbody>\n",
       "    <tr>\n",
       "      <th>1</th>\n",
       "      <td>1</td>\n",
       "      <td>1.0</td>\n",
       "      <td>10.690427</td>\n",
       "    </tr>\n",
       "    <tr>\n",
       "      <th>11</th>\n",
       "      <td>2</td>\n",
       "      <td>2.0</td>\n",
       "      <td>10.850605</td>\n",
       "    </tr>\n",
       "    <tr>\n",
       "      <th>3</th>\n",
       "      <td>3</td>\n",
       "      <td>3.0</td>\n",
       "      <td>11.135737</td>\n",
       "    </tr>\n",
       "    <tr>\n",
       "      <th>6</th>\n",
       "      <td>4</td>\n",
       "      <td>4.0</td>\n",
       "      <td>11.258153</td>\n",
       "    </tr>\n",
       "    <tr>\n",
       "      <th>4</th>\n",
       "      <td>5</td>\n",
       "      <td>5.0</td>\n",
       "      <td>11.539938</td>\n",
       "    </tr>\n",
       "    <tr>\n",
       "      <th>2</th>\n",
       "      <td>6</td>\n",
       "      <td>6.0</td>\n",
       "      <td>11.506472</td>\n",
       "    </tr>\n",
       "    <tr>\n",
       "      <th>8</th>\n",
       "      <td>7</td>\n",
       "      <td>7.0</td>\n",
       "      <td>11.067508</td>\n",
       "    </tr>\n",
       "    <tr>\n",
       "      <th>7</th>\n",
       "      <td>8</td>\n",
       "      <td>8.0</td>\n",
       "      <td>11.175669</td>\n",
       "    </tr>\n",
       "    <tr>\n",
       "      <th>5</th>\n",
       "      <td>9</td>\n",
       "      <td>9.0</td>\n",
       "      <td>11.675097</td>\n",
       "    </tr>\n",
       "    <tr>\n",
       "      <th>9</th>\n",
       "      <td>10</td>\n",
       "      <td>10.0</td>\n",
       "      <td>11.589168</td>\n",
       "    </tr>\n",
       "    <tr>\n",
       "      <th>10</th>\n",
       "      <td>11</td>\n",
       "      <td>11.0</td>\n",
       "      <td>11.506481</td>\n",
       "    </tr>\n",
       "    <tr>\n",
       "      <th>0</th>\n",
       "      <td>12</td>\n",
       "      <td>12.0</td>\n",
       "      <td>11.539273</td>\n",
       "    </tr>\n",
       "  </tbody>\n",
       "</table>\n",
       "</div>"
      ],
      "text/plain": [
       "    pickup_month  avg(pickup_month)  avg(fare_amount)\n",
       "1              1                1.0         10.690427\n",
       "11             2                2.0         10.850605\n",
       "3              3                3.0         11.135737\n",
       "6              4                4.0         11.258153\n",
       "4              5                5.0         11.539938\n",
       "2              6                6.0         11.506472\n",
       "8              7                7.0         11.067508\n",
       "7              8                8.0         11.175669\n",
       "5              9                9.0         11.675097\n",
       "9             10               10.0         11.589168\n",
       "10            11               11.0         11.506481\n",
       "0             12               12.0         11.539273"
      ]
     },
     "execution_count": 79,
     "metadata": {},
     "output_type": "execute_result"
    }
   ],
   "source": [
    "avg_fares_month = train_data_filtered.select(\"pickup_month\", \"fare_amount\").\n",
    "groupBy(\"pickup_month\").mean().toPandas()\n",
    "avg_fares_month.sort_values(by = \"pickup_month\", inplace = True)\n",
    "avg_fares_month"
   ]
  },
  {
   "cell_type": "code",
   "execution_count": 80,
   "metadata": {},
   "outputs": [
    {
     "data": {
      "text/plain": [
       "Text(0.5, 1.0, 'Average Fares by Each Month')"
      ]
     },
     "execution_count": 80,
     "metadata": {},
     "output_type": "execute_result"
    },
    {
     "data": {
      "image/png": "[encoded data removed]",
      "text/plain": [
       "<Figure size 432x288 with 1 Axes>"
      ]
     },
     "metadata": {
      "needs_background": "light"
     },
     "output_type": "display_data"
    }
   ],
   "source": [
    "fig = plt.figure()\n",
    "\n",
    "sns.barplot(x = \"pickup_month\",\n",
    "            y = \"avg(fare_amount)\",\n",
    "            data = avg_fares_month).set_title(\"Average Fares by Each Month\")"
   ]
  },
  {
   "cell_type": "code",
   "execution_count": 81,
   "metadata": {},
   "outputs": [
    {
     "data": {
      "text/html": [
       "<div>\n",
       "<style scoped>\n",
       "    .dataframe tbody tr th:only-of-type {\n",
       "        vertical-align: middle;\n",
       "    }\n",
       "\n",
       "    .dataframe tbody tr th {\n",
       "        vertical-align: top;\n",
       "    }\n",
       "\n",
       "    .dataframe thead th {\n",
       "        text-align: right;\n",
       "    }\n",
       "</style>\n",
       "<table border=\"1\" class=\"dataframe\">\n",
       "  <thead>\n",
       "    <tr style=\"text-align: right;\">\n",
       "      <th></th>\n",
       "      <th>pickup_day_of_week</th>\n",
       "      <th>avg(pickup_day_of_week)</th>\n",
       "      <th>avg(fare_amount)</th>\n",
       "    </tr>\n",
       "  </thead>\n",
       "  <tbody>\n",
       "    <tr>\n",
       "      <th>0</th>\n",
       "      <td>1</td>\n",
       "      <td>1.0</td>\n",
       "      <td>11.583543</td>\n",
       "    </tr>\n",
       "    <tr>\n",
       "      <th>6</th>\n",
       "      <td>2</td>\n",
       "      <td>2.0</td>\n",
       "      <td>11.320434</td>\n",
       "    </tr>\n",
       "    <tr>\n",
       "      <th>2</th>\n",
       "      <td>3</td>\n",
       "      <td>3.0</td>\n",
       "      <td>11.138204</td>\n",
       "    </tr>\n",
       "    <tr>\n",
       "      <th>4</th>\n",
       "      <td>4</td>\n",
       "      <td>4.0</td>\n",
       "      <td>11.257655</td>\n",
       "    </tr>\n",
       "    <tr>\n",
       "      <th>3</th>\n",
       "      <td>5</td>\n",
       "      <td>5.0</td>\n",
       "      <td>11.441898</td>\n",
       "    </tr>\n",
       "    <tr>\n",
       "      <th>1</th>\n",
       "      <td>6</td>\n",
       "      <td>6.0</td>\n",
       "      <td>11.368184</td>\n",
       "    </tr>\n",
       "    <tr>\n",
       "      <th>5</th>\n",
       "      <td>7</td>\n",
       "      <td>7.0</td>\n",
       "      <td>10.947569</td>\n",
       "    </tr>\n",
       "  </tbody>\n",
       "</table>\n",
       "</div>"
      ],
      "text/plain": [
       "   pickup_day_of_week  avg(pickup_day_of_week)  avg(fare_amount)\n",
       "0                   1                      1.0         11.583543\n",
       "6                   2                      2.0         11.320434\n",
       "2                   3                      3.0         11.138204\n",
       "4                   4                      4.0         11.257655\n",
       "3                   5                      5.0         11.441898\n",
       "1                   6                      6.0         11.368184\n",
       "5                   7                      7.0         10.947569"
      ]
     },
     "execution_count": 81,
     "metadata": {},
     "output_type": "execute_result"
    }
   ],
   "source": [
    "avg_fares_day = train_data_filtered.select(\"pickup_day_of_week\", \"fare_amount\").\n",
    "groupBy(\"pickup_day_of_week\").mean().toPandas()\n",
    "avg_fares_day.sort_values(by = \"pickup_day_of_week\", inplace = True)\n",
    "avg_fares_day"
   ]
  },
  {
   "cell_type": "code",
   "execution_count": 82,
   "metadata": {},
   "outputs": [
    {
     "name": "stdout",
     "output_type": "stream",
     "text": [
      "   pickup_day_of_week  avg(pickup_day_of_week)  avg(fare_amount)\n",
      "0                   1                      1.0         11.583543\n",
      "6                   2                      2.0         11.320434\n",
      "2                   3                      3.0         11.138204\n",
      "4                   4                      4.0         11.257655\n",
      "3                   5                      5.0         11.441898\n",
      "1                   6                      6.0         11.368184\n",
      "5                   7                      7.0         10.947569\n"
     ]
    }
   ],
   "source": [
    "print(avg_fares_day)"
   ]
  },
  {
   "cell_type": "code",
   "execution_count": 83,
   "metadata": {},
   "outputs": [
    {
     "data": {
      "text/plain": [
       "Text(0.5, 1.0, 'Average Fares for Each Day (starting by 1 is Sunday)')"
      ]
     },
     "execution_count": 83,
     "metadata": {},
     "output_type": "execute_result"
    },
    {
     "data": {
      "image/png": "[encoded data removed]",
      "text/plain": [
       "<Figure size 432x288 with 1 Axes>"
      ]
     },
     "metadata": {
      "needs_background": "light"
     },
     "output_type": "display_data"
    }
   ],
   "source": [
    "fig = plt.figure()\n",
    "\n",
    "sns.barplot(x = \"pickup_day_of_week\",\n",
    "            y = \"avg(fare_amount)\",\n",
    "            data = avg_fares_day).set_title(\"Average Fares for Each Day (starting by 1 is Sunday)\")"
   ]
  },
  {
   "cell_type": "code",
   "execution_count": 84,
   "metadata": {},
   "outputs": [
    {
     "data": {
      "text/html": [
       "<div>\n",
       "<style scoped>\n",
       "    .dataframe tbody tr th:only-of-type {\n",
       "        vertical-align: middle;\n",
       "    }\n",
       "\n",
       "    .dataframe tbody tr th {\n",
       "        vertical-align: top;\n",
       "    }\n",
       "\n",
       "    .dataframe thead th {\n",
       "        text-align: right;\n",
       "    }\n",
       "</style>\n",
       "<table border=\"1\" class=\"dataframe\">\n",
       "  <thead>\n",
       "    <tr style=\"text-align: right;\">\n",
       "      <th></th>\n",
       "      <th>pickup_hour</th>\n",
       "      <th>avg(pickup_hour)</th>\n",
       "      <th>avg(fare_amount)</th>\n",
       "    </tr>\n",
       "  </thead>\n",
       "  <tbody>\n",
       "    <tr>\n",
       "      <th>22</th>\n",
       "      <td>0</td>\n",
       "      <td>0.0</td>\n",
       "      <td>11.622322</td>\n",
       "    </tr>\n",
       "    <tr>\n",
       "      <th>2</th>\n",
       "      <td>1</td>\n",
       "      <td>1.0</td>\n",
       "      <td>11.349003</td>\n",
       "    </tr>\n",
       "    <tr>\n",
       "      <th>21</th>\n",
       "      <td>2</td>\n",
       "      <td>2.0</td>\n",
       "      <td>11.331435</td>\n",
       "    </tr>\n",
       "    <tr>\n",
       "      <th>6</th>\n",
       "      <td>3</td>\n",
       "      <td>3.0</td>\n",
       "      <td>11.786527</td>\n",
       "    </tr>\n",
       "    <tr>\n",
       "      <th>13</th>\n",
       "      <td>4</td>\n",
       "      <td>4.0</td>\n",
       "      <td>13.521306</td>\n",
       "    </tr>\n",
       "    <tr>\n",
       "      <th>8</th>\n",
       "      <td>5</td>\n",
       "      <td>5.0</td>\n",
       "      <td>15.098579</td>\n",
       "    </tr>\n",
       "    <tr>\n",
       "      <th>5</th>\n",
       "      <td>6</td>\n",
       "      <td>6.0</td>\n",
       "      <td>12.128896</td>\n",
       "    </tr>\n",
       "    <tr>\n",
       "      <th>16</th>\n",
       "      <td>7</td>\n",
       "      <td>7.0</td>\n",
       "      <td>10.955931</td>\n",
       "    </tr>\n",
       "    <tr>\n",
       "      <th>14</th>\n",
       "      <td>8</td>\n",
       "      <td>8.0</td>\n",
       "      <td>10.877159</td>\n",
       "    </tr>\n",
       "    <tr>\n",
       "      <th>12</th>\n",
       "      <td>9</td>\n",
       "      <td>9.0</td>\n",
       "      <td>10.831554</td>\n",
       "    </tr>\n",
       "    <tr>\n",
       "      <th>17</th>\n",
       "      <td>10</td>\n",
       "      <td>10.0</td>\n",
       "      <td>10.885888</td>\n",
       "    </tr>\n",
       "    <tr>\n",
       "      <th>19</th>\n",
       "      <td>11</td>\n",
       "      <td>11.0</td>\n",
       "      <td>11.078682</td>\n",
       "    </tr>\n",
       "    <tr>\n",
       "      <th>0</th>\n",
       "      <td>12</td>\n",
       "      <td>12.0</td>\n",
       "      <td>11.092259</td>\n",
       "    </tr>\n",
       "    <tr>\n",
       "      <th>3</th>\n",
       "      <td>13</td>\n",
       "      <td>13.0</td>\n",
       "      <td>11.481311</td>\n",
       "    </tr>\n",
       "    <tr>\n",
       "      <th>20</th>\n",
       "      <td>14</td>\n",
       "      <td>14.0</td>\n",
       "      <td>11.827846</td>\n",
       "    </tr>\n",
       "    <tr>\n",
       "      <th>10</th>\n",
       "      <td>15</td>\n",
       "      <td>15.0</td>\n",
       "      <td>11.917005</td>\n",
       "    </tr>\n",
       "    <tr>\n",
       "      <th>4</th>\n",
       "      <td>16</td>\n",
       "      <td>16.0</td>\n",
       "      <td>11.822765</td>\n",
       "    </tr>\n",
       "    <tr>\n",
       "      <th>11</th>\n",
       "      <td>17</td>\n",
       "      <td>17.0</td>\n",
       "      <td>11.445367</td>\n",
       "    </tr>\n",
       "    <tr>\n",
       "      <th>23</th>\n",
       "      <td>18</td>\n",
       "      <td>18.0</td>\n",
       "      <td>10.877042</td>\n",
       "    </tr>\n",
       "    <tr>\n",
       "      <th>9</th>\n",
       "      <td>19</td>\n",
       "      <td>19.0</td>\n",
       "      <td>10.523951</td>\n",
       "    </tr>\n",
       "    <tr>\n",
       "      <th>7</th>\n",
       "      <td>20</td>\n",
       "      <td>20.0</td>\n",
       "      <td>10.704785</td>\n",
       "    </tr>\n",
       "    <tr>\n",
       "      <th>18</th>\n",
       "      <td>21</td>\n",
       "      <td>21.0</td>\n",
       "      <td>10.984665</td>\n",
       "    </tr>\n",
       "    <tr>\n",
       "      <th>1</th>\n",
       "      <td>22</td>\n",
       "      <td>22.0</td>\n",
       "      <td>11.289432</td>\n",
       "    </tr>\n",
       "    <tr>\n",
       "      <th>15</th>\n",
       "      <td>23</td>\n",
       "      <td>23.0</td>\n",
       "      <td>11.566282</td>\n",
       "    </tr>\n",
       "  </tbody>\n",
       "</table>\n",
       "</div>"
      ],
      "text/plain": [
       "    pickup_hour  avg(pickup_hour)  avg(fare_amount)\n",
       "22            0               0.0         11.622322\n",
       "2             1               1.0         11.349003\n",
       "21            2               2.0         11.331435\n",
       "6             3               3.0         11.786527\n",
       "13            4               4.0         13.521306\n",
       "8             5               5.0         15.098579\n",
       "5             6               6.0         12.128896\n",
       "16            7               7.0         10.955931\n",
       "14            8               8.0         10.877159\n",
       "12            9               9.0         10.831554\n",
       "17           10              10.0         10.885888\n",
       "19           11              11.0         11.078682\n",
       "0            12              12.0         11.092259\n",
       "3            13              13.0         11.481311\n",
       "20           14              14.0         11.827846\n",
       "10           15              15.0         11.917005\n",
       "4            16              16.0         11.822765\n",
       "11           17              17.0         11.445367\n",
       "23           18              18.0         10.877042\n",
       "9            19              19.0         10.523951\n",
       "7            20              20.0         10.704785\n",
       "18           21              21.0         10.984665\n",
       "1            22              22.0         11.289432\n",
       "15           23              23.0         11.566282"
      ]
     },
     "execution_count": 84,
     "metadata": {},
     "output_type": "execute_result"
    }
   ],
   "source": [
    "avg_fares_hour = train_data_filtered.select(\"pickup_hour\", \"fare_amount\").groupBy(\"pickup_hour\").mean().toPandas()\n",
    "avg_fares_hour.sort_values(by = \"pickup_hour\", inplace = True)\n",
    "avg_fares_hour"
   ]
  },
  {
   "cell_type": "code",
   "execution_count": 85,
   "metadata": {},
   "outputs": [
    {
     "data": {
      "text/plain": [
       "Text(0.5, 1.0, 'Average Fares for Each Hour')"
      ]
     },
     "execution_count": 85,
     "metadata": {},
     "output_type": "execute_result"
    },
    {
     "data": {
      "image/png": "[encoded data removed]",
      "text/plain": [
       "<Figure size 432x288 with 1 Axes>"
      ]
     },
     "metadata": {
      "needs_background": "light"
     },
     "output_type": "display_data"
    }
   ],
   "source": [
    "fig = plt.figure()\n",
    "\n",
    "sns.barplot(x = \"pickup_hour\",\n",
    "            y = \"avg(fare_amount)\",\n",
    "            data = avg_fares_hour).set_title(\"Average Fares for Each Hour\")"
   ]
  },
  {
   "cell_type": "code",
   "execution_count": null,
   "metadata": {},
   "outputs": [],
   "source": []
  }
 ],
 "metadata": {
  "kernelspec": {
   "display_name": "Python 3",
   "language": "python",
   "name": "python3"
  },
  "language_info": {
   "codemirror_mode": {
    "name": "ipython",
    "version": 3
   },
   "file_extension": ".py",
   "mimetype": "text/x-python",
   "name": "python",
   "nbconvert_exporter": "python",
   "pygments_lexer": "ipython3",
   "version": "3.8.3"
  }
 },
 "nbformat": 4,
 "nbformat_minor": 4
}
